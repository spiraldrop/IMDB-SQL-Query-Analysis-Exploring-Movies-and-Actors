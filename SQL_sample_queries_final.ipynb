{
 "cells": [
  {
   "cell_type": "markdown",
   "metadata": {
    "id": "hmzI5oZ6E_Hp"
   },
   "source": [
    "# SQL Assignment"
   ]
  },
  {
   "cell_type": "markdown",
   "metadata": {
    "id": "Jl-6KWiX81dk"
   },
   "source": []
  },
  {
   "cell_type": "code",
   "execution_count": 11,
   "metadata": {
    "executionInfo": {
     "elapsed": 632,
     "status": "ok",
     "timestamp": 1632499596539,
     "user": {
      "displayName": "Yash Vyas",
      "photoUrl": "https://lh3.googleusercontent.com/a/default-user=s64",
      "userId": "09364725830129113274"
     },
     "user_tz": -330
    },
    "id": "wso5pGwnE_Ht"
   },
   "outputs": [],
   "source": [
    "import pandas as pd\n",
    "import sqlite3\n",
    "\n",
    "from IPython.display import display, HTML"
   ]
  },
  {
   "cell_type": "code",
   "execution_count": 12,
   "metadata": {
    "executionInfo": {
     "elapsed": 27,
     "status": "ok",
     "timestamp": 1632499597201,
     "user": {
      "displayName": "Yash Vyas",
      "photoUrl": "https://lh3.googleusercontent.com/a/default-user=s64",
      "userId": "09364725830129113274"
     },
     "user_tz": -330
    },
    "id": "uMYMAPLm23sp"
   },
   "outputs": [],
   "source": [
    "# Note that this is not the same db we have used in course videos, please download from this link\n",
    "# https://drive.google.com/file/d/1O-1-L1DdNxEK6O6nG2jS31MbrMh-OnXM/view?usp=sharing          "
   ]
  },
  {
   "cell_type": "code",
   "execution_count": 13,
   "metadata": {
    "executionInfo": {
     "elapsed": 27,
     "status": "ok",
     "timestamp": 1632499597202,
     "user": {
      "displayName": "Yash Vyas",
      "photoUrl": "https://lh3.googleusercontent.com/a/default-user=s64",
      "userId": "09364725830129113274"
     },
     "user_tz": -330
    },
    "id": "xrUl9ShkE_H0"
   },
   "outputs": [],
   "source": [
    "conn = sqlite3.connect(\"Db-IMDB-Assignment.db\")"
   ]
  },
  {
   "cell_type": "code",
   "execution_count": 14,
   "metadata": {
    "colab": {
     "base_uri": "https://localhost:8080/",
     "height": 337
    },
    "executionInfo": {
     "elapsed": 41,
     "status": "ok",
     "timestamp": 1632499597216,
     "user": {
      "displayName": "Yash Vyas",
      "photoUrl": "https://lh3.googleusercontent.com/a/default-user=s64",
      "userId": "09364725830129113274"
     },
     "user_tz": -330
    },
    "id": "ixcLtvkAxqxI",
    "outputId": "f05a4b9f-ba7b-4265-82c8-df285196c9ab"
   },
   "outputs": [
    {
     "data": {
      "image/png": "db_schema.jpeg",
      "text/plain": [
       "<IPython.core.display.Image object>"
      ]
     },
     "execution_count": 14,
     "metadata": {
      "image/png": {
       "height": 300,
       "width": 1200
      }
     },
     "output_type": "execute_result"
    }
   ],
   "source": [
    "from IPython.display import Image\n",
    "Image(\"db_schema.jpeg\", width=1200, height=300)"
   ]
  },
  {
   "cell_type": "markdown",
   "metadata": {
    "id": "Z_ADQl2BE_H6"
   },
   "source": [
    "#### Overview of all tables"
   ]
  },
  {
   "cell_type": "code",
   "execution_count": 15,
   "metadata": {
    "executionInfo": {
     "elapsed": 38,
     "status": "ok",
     "timestamp": 1632499597217,
     "user": {
      "displayName": "Yash Vyas",
      "photoUrl": "https://lh3.googleusercontent.com/a/default-user=s64",
      "userId": "09364725830129113274"
     },
     "user_tz": -330
    },
    "id": "7ZfheusYE_H7"
   },
   "outputs": [],
   "source": [
    "tables = pd.read_sql_query(\"SELECT NAME AS 'Table_Name' FROM sqlite_master WHERE type='table'\",conn)\n",
    "tables = tables[\"Table_Name\"].values.tolist()"
   ]
  },
  {
   "cell_type": "code",
   "execution_count": 16,
   "metadata": {
    "colab": {
     "base_uri": "https://localhost:8080/",
     "height": 1000
    },
    "collapsed": true,
    "executionInfo": {
     "elapsed": 37,
     "status": "ok",
     "timestamp": 1632499597217,
     "user": {
      "displayName": "Yash Vyas",
      "photoUrl": "https://lh3.googleusercontent.com/a/default-user=s64",
      "userId": "09364725830129113274"
     },
     "user_tz": -330
    },
    "id": "f3zLh5FGE_H_",
    "outputId": "9fc7d3d5-ea6b-4226-ada7-7ac0c36aedf9"
   },
   "outputs": [
    {
     "name": "stdout",
     "output_type": "stream",
     "text": [
      "Schema of Movie\n"
     ]
    },
    {
     "data": {
      "text/html": [
       "<div>\n",
       "<style scoped>\n",
       "    .dataframe tbody tr th:only-of-type {\n",
       "        vertical-align: middle;\n",
       "    }\n",
       "\n",
       "    .dataframe tbody tr th {\n",
       "        vertical-align: top;\n",
       "    }\n",
       "\n",
       "    .dataframe thead th {\n",
       "        text-align: right;\n",
       "    }\n",
       "</style>\n",
       "<table border=\"1\" class=\"dataframe\">\n",
       "  <thead>\n",
       "    <tr style=\"text-align: right;\">\n",
       "      <th></th>\n",
       "      <th>cid</th>\n",
       "      <th>name</th>\n",
       "      <th>type</th>\n",
       "      <th>notnull</th>\n",
       "      <th>dflt_value</th>\n",
       "      <th>pk</th>\n",
       "    </tr>\n",
       "  </thead>\n",
       "  <tbody>\n",
       "    <tr>\n",
       "      <th>0</th>\n",
       "      <td>0</td>\n",
       "      <td>index</td>\n",
       "      <td>INTEGER</td>\n",
       "      <td>0</td>\n",
       "      <td>None</td>\n",
       "      <td>0</td>\n",
       "    </tr>\n",
       "    <tr>\n",
       "      <th>1</th>\n",
       "      <td>1</td>\n",
       "      <td>MID</td>\n",
       "      <td>TEXT</td>\n",
       "      <td>0</td>\n",
       "      <td>None</td>\n",
       "      <td>0</td>\n",
       "    </tr>\n",
       "    <tr>\n",
       "      <th>2</th>\n",
       "      <td>2</td>\n",
       "      <td>title</td>\n",
       "      <td>TEXT</td>\n",
       "      <td>0</td>\n",
       "      <td>None</td>\n",
       "      <td>0</td>\n",
       "    </tr>\n",
       "    <tr>\n",
       "      <th>3</th>\n",
       "      <td>3</td>\n",
       "      <td>year</td>\n",
       "      <td>TEXT</td>\n",
       "      <td>0</td>\n",
       "      <td>None</td>\n",
       "      <td>0</td>\n",
       "    </tr>\n",
       "    <tr>\n",
       "      <th>4</th>\n",
       "      <td>4</td>\n",
       "      <td>rating</td>\n",
       "      <td>REAL</td>\n",
       "      <td>0</td>\n",
       "      <td>None</td>\n",
       "      <td>0</td>\n",
       "    </tr>\n",
       "    <tr>\n",
       "      <th>5</th>\n",
       "      <td>5</td>\n",
       "      <td>num_votes</td>\n",
       "      <td>INTEGER</td>\n",
       "      <td>0</td>\n",
       "      <td>None</td>\n",
       "      <td>0</td>\n",
       "    </tr>\n",
       "  </tbody>\n",
       "</table>\n",
       "</div>"
      ],
      "text/plain": [
       "   cid       name     type  notnull dflt_value  pk\n",
       "0    0      index  INTEGER        0       None   0\n",
       "1    1        MID     TEXT        0       None   0\n",
       "2    2      title     TEXT        0       None   0\n",
       "3    3       year     TEXT        0       None   0\n",
       "4    4     rating     REAL        0       None   0\n",
       "5    5  num_votes  INTEGER        0       None   0"
      ]
     },
     "metadata": {},
     "output_type": "display_data"
    },
    {
     "name": "stdout",
     "output_type": "stream",
     "text": [
      "----------------------------------------------------------------------------------------------------\n",
      "\n",
      "\n",
      "Schema of Genre\n"
     ]
    },
    {
     "data": {
      "text/html": [
       "<div>\n",
       "<style scoped>\n",
       "    .dataframe tbody tr th:only-of-type {\n",
       "        vertical-align: middle;\n",
       "    }\n",
       "\n",
       "    .dataframe tbody tr th {\n",
       "        vertical-align: top;\n",
       "    }\n",
       "\n",
       "    .dataframe thead th {\n",
       "        text-align: right;\n",
       "    }\n",
       "</style>\n",
       "<table border=\"1\" class=\"dataframe\">\n",
       "  <thead>\n",
       "    <tr style=\"text-align: right;\">\n",
       "      <th></th>\n",
       "      <th>cid</th>\n",
       "      <th>name</th>\n",
       "      <th>type</th>\n",
       "      <th>notnull</th>\n",
       "      <th>dflt_value</th>\n",
       "      <th>pk</th>\n",
       "    </tr>\n",
       "  </thead>\n",
       "  <tbody>\n",
       "    <tr>\n",
       "      <th>0</th>\n",
       "      <td>0</td>\n",
       "      <td>index</td>\n",
       "      <td>INTEGER</td>\n",
       "      <td>0</td>\n",
       "      <td>None</td>\n",
       "      <td>0</td>\n",
       "    </tr>\n",
       "    <tr>\n",
       "      <th>1</th>\n",
       "      <td>1</td>\n",
       "      <td>Name</td>\n",
       "      <td>TEXT</td>\n",
       "      <td>0</td>\n",
       "      <td>None</td>\n",
       "      <td>0</td>\n",
       "    </tr>\n",
       "    <tr>\n",
       "      <th>2</th>\n",
       "      <td>2</td>\n",
       "      <td>GID</td>\n",
       "      <td>INTEGER</td>\n",
       "      <td>0</td>\n",
       "      <td>None</td>\n",
       "      <td>0</td>\n",
       "    </tr>\n",
       "  </tbody>\n",
       "</table>\n",
       "</div>"
      ],
      "text/plain": [
       "   cid   name     type  notnull dflt_value  pk\n",
       "0    0  index  INTEGER        0       None   0\n",
       "1    1   Name     TEXT        0       None   0\n",
       "2    2    GID  INTEGER        0       None   0"
      ]
     },
     "metadata": {},
     "output_type": "display_data"
    },
    {
     "name": "stdout",
     "output_type": "stream",
     "text": [
      "----------------------------------------------------------------------------------------------------\n",
      "\n",
      "\n",
      "Schema of Language\n"
     ]
    },
    {
     "data": {
      "text/html": [
       "<div>\n",
       "<style scoped>\n",
       "    .dataframe tbody tr th:only-of-type {\n",
       "        vertical-align: middle;\n",
       "    }\n",
       "\n",
       "    .dataframe tbody tr th {\n",
       "        vertical-align: top;\n",
       "    }\n",
       "\n",
       "    .dataframe thead th {\n",
       "        text-align: right;\n",
       "    }\n",
       "</style>\n",
       "<table border=\"1\" class=\"dataframe\">\n",
       "  <thead>\n",
       "    <tr style=\"text-align: right;\">\n",
       "      <th></th>\n",
       "      <th>cid</th>\n",
       "      <th>name</th>\n",
       "      <th>type</th>\n",
       "      <th>notnull</th>\n",
       "      <th>dflt_value</th>\n",
       "      <th>pk</th>\n",
       "    </tr>\n",
       "  </thead>\n",
       "  <tbody>\n",
       "    <tr>\n",
       "      <th>0</th>\n",
       "      <td>0</td>\n",
       "      <td>index</td>\n",
       "      <td>INTEGER</td>\n",
       "      <td>0</td>\n",
       "      <td>None</td>\n",
       "      <td>0</td>\n",
       "    </tr>\n",
       "    <tr>\n",
       "      <th>1</th>\n",
       "      <td>1</td>\n",
       "      <td>Name</td>\n",
       "      <td>TEXT</td>\n",
       "      <td>0</td>\n",
       "      <td>None</td>\n",
       "      <td>0</td>\n",
       "    </tr>\n",
       "    <tr>\n",
       "      <th>2</th>\n",
       "      <td>2</td>\n",
       "      <td>LAID</td>\n",
       "      <td>INTEGER</td>\n",
       "      <td>0</td>\n",
       "      <td>None</td>\n",
       "      <td>0</td>\n",
       "    </tr>\n",
       "  </tbody>\n",
       "</table>\n",
       "</div>"
      ],
      "text/plain": [
       "   cid   name     type  notnull dflt_value  pk\n",
       "0    0  index  INTEGER        0       None   0\n",
       "1    1   Name     TEXT        0       None   0\n",
       "2    2   LAID  INTEGER        0       None   0"
      ]
     },
     "metadata": {},
     "output_type": "display_data"
    },
    {
     "name": "stdout",
     "output_type": "stream",
     "text": [
      "----------------------------------------------------------------------------------------------------\n",
      "\n",
      "\n",
      "Schema of Country\n"
     ]
    },
    {
     "data": {
      "text/html": [
       "<div>\n",
       "<style scoped>\n",
       "    .dataframe tbody tr th:only-of-type {\n",
       "        vertical-align: middle;\n",
       "    }\n",
       "\n",
       "    .dataframe tbody tr th {\n",
       "        vertical-align: top;\n",
       "    }\n",
       "\n",
       "    .dataframe thead th {\n",
       "        text-align: right;\n",
       "    }\n",
       "</style>\n",
       "<table border=\"1\" class=\"dataframe\">\n",
       "  <thead>\n",
       "    <tr style=\"text-align: right;\">\n",
       "      <th></th>\n",
       "      <th>cid</th>\n",
       "      <th>name</th>\n",
       "      <th>type</th>\n",
       "      <th>notnull</th>\n",
       "      <th>dflt_value</th>\n",
       "      <th>pk</th>\n",
       "    </tr>\n",
       "  </thead>\n",
       "  <tbody>\n",
       "    <tr>\n",
       "      <th>0</th>\n",
       "      <td>0</td>\n",
       "      <td>index</td>\n",
       "      <td>INTEGER</td>\n",
       "      <td>0</td>\n",
       "      <td>None</td>\n",
       "      <td>0</td>\n",
       "    </tr>\n",
       "    <tr>\n",
       "      <th>1</th>\n",
       "      <td>1</td>\n",
       "      <td>Name</td>\n",
       "      <td>TEXT</td>\n",
       "      <td>0</td>\n",
       "      <td>None</td>\n",
       "      <td>0</td>\n",
       "    </tr>\n",
       "    <tr>\n",
       "      <th>2</th>\n",
       "      <td>2</td>\n",
       "      <td>CID</td>\n",
       "      <td>INTEGER</td>\n",
       "      <td>0</td>\n",
       "      <td>None</td>\n",
       "      <td>0</td>\n",
       "    </tr>\n",
       "  </tbody>\n",
       "</table>\n",
       "</div>"
      ],
      "text/plain": [
       "   cid   name     type  notnull dflt_value  pk\n",
       "0    0  index  INTEGER        0       None   0\n",
       "1    1   Name     TEXT        0       None   0\n",
       "2    2    CID  INTEGER        0       None   0"
      ]
     },
     "metadata": {},
     "output_type": "display_data"
    },
    {
     "name": "stdout",
     "output_type": "stream",
     "text": [
      "----------------------------------------------------------------------------------------------------\n",
      "\n",
      "\n",
      "Schema of Location\n"
     ]
    },
    {
     "data": {
      "text/html": [
       "<div>\n",
       "<style scoped>\n",
       "    .dataframe tbody tr th:only-of-type {\n",
       "        vertical-align: middle;\n",
       "    }\n",
       "\n",
       "    .dataframe tbody tr th {\n",
       "        vertical-align: top;\n",
       "    }\n",
       "\n",
       "    .dataframe thead th {\n",
       "        text-align: right;\n",
       "    }\n",
       "</style>\n",
       "<table border=\"1\" class=\"dataframe\">\n",
       "  <thead>\n",
       "    <tr style=\"text-align: right;\">\n",
       "      <th></th>\n",
       "      <th>cid</th>\n",
       "      <th>name</th>\n",
       "      <th>type</th>\n",
       "      <th>notnull</th>\n",
       "      <th>dflt_value</th>\n",
       "      <th>pk</th>\n",
       "    </tr>\n",
       "  </thead>\n",
       "  <tbody>\n",
       "    <tr>\n",
       "      <th>0</th>\n",
       "      <td>0</td>\n",
       "      <td>index</td>\n",
       "      <td>INTEGER</td>\n",
       "      <td>0</td>\n",
       "      <td>None</td>\n",
       "      <td>0</td>\n",
       "    </tr>\n",
       "    <tr>\n",
       "      <th>1</th>\n",
       "      <td>1</td>\n",
       "      <td>Name</td>\n",
       "      <td>TEXT</td>\n",
       "      <td>0</td>\n",
       "      <td>None</td>\n",
       "      <td>0</td>\n",
       "    </tr>\n",
       "    <tr>\n",
       "      <th>2</th>\n",
       "      <td>2</td>\n",
       "      <td>LID</td>\n",
       "      <td>INTEGER</td>\n",
       "      <td>0</td>\n",
       "      <td>None</td>\n",
       "      <td>0</td>\n",
       "    </tr>\n",
       "  </tbody>\n",
       "</table>\n",
       "</div>"
      ],
      "text/plain": [
       "   cid   name     type  notnull dflt_value  pk\n",
       "0    0  index  INTEGER        0       None   0\n",
       "1    1   Name     TEXT        0       None   0\n",
       "2    2    LID  INTEGER        0       None   0"
      ]
     },
     "metadata": {},
     "output_type": "display_data"
    },
    {
     "name": "stdout",
     "output_type": "stream",
     "text": [
      "----------------------------------------------------------------------------------------------------\n",
      "\n",
      "\n",
      "Schema of M_Location\n"
     ]
    },
    {
     "data": {
      "text/html": [
       "<div>\n",
       "<style scoped>\n",
       "    .dataframe tbody tr th:only-of-type {\n",
       "        vertical-align: middle;\n",
       "    }\n",
       "\n",
       "    .dataframe tbody tr th {\n",
       "        vertical-align: top;\n",
       "    }\n",
       "\n",
       "    .dataframe thead th {\n",
       "        text-align: right;\n",
       "    }\n",
       "</style>\n",
       "<table border=\"1\" class=\"dataframe\">\n",
       "  <thead>\n",
       "    <tr style=\"text-align: right;\">\n",
       "      <th></th>\n",
       "      <th>cid</th>\n",
       "      <th>name</th>\n",
       "      <th>type</th>\n",
       "      <th>notnull</th>\n",
       "      <th>dflt_value</th>\n",
       "      <th>pk</th>\n",
       "    </tr>\n",
       "  </thead>\n",
       "  <tbody>\n",
       "    <tr>\n",
       "      <th>0</th>\n",
       "      <td>0</td>\n",
       "      <td>index</td>\n",
       "      <td>INTEGER</td>\n",
       "      <td>0</td>\n",
       "      <td>None</td>\n",
       "      <td>0</td>\n",
       "    </tr>\n",
       "    <tr>\n",
       "      <th>1</th>\n",
       "      <td>1</td>\n",
       "      <td>MID</td>\n",
       "      <td>TEXT</td>\n",
       "      <td>0</td>\n",
       "      <td>None</td>\n",
       "      <td>0</td>\n",
       "    </tr>\n",
       "    <tr>\n",
       "      <th>2</th>\n",
       "      <td>2</td>\n",
       "      <td>LID</td>\n",
       "      <td>REAL</td>\n",
       "      <td>0</td>\n",
       "      <td>None</td>\n",
       "      <td>0</td>\n",
       "    </tr>\n",
       "    <tr>\n",
       "      <th>3</th>\n",
       "      <td>3</td>\n",
       "      <td>ID</td>\n",
       "      <td>INTEGER</td>\n",
       "      <td>0</td>\n",
       "      <td>None</td>\n",
       "      <td>0</td>\n",
       "    </tr>\n",
       "  </tbody>\n",
       "</table>\n",
       "</div>"
      ],
      "text/plain": [
       "   cid   name     type  notnull dflt_value  pk\n",
       "0    0  index  INTEGER        0       None   0\n",
       "1    1    MID     TEXT        0       None   0\n",
       "2    2    LID     REAL        0       None   0\n",
       "3    3     ID  INTEGER        0       None   0"
      ]
     },
     "metadata": {},
     "output_type": "display_data"
    },
    {
     "name": "stdout",
     "output_type": "stream",
     "text": [
      "----------------------------------------------------------------------------------------------------\n",
      "\n",
      "\n",
      "Schema of M_Country\n"
     ]
    },
    {
     "data": {
      "text/html": [
       "<div>\n",
       "<style scoped>\n",
       "    .dataframe tbody tr th:only-of-type {\n",
       "        vertical-align: middle;\n",
       "    }\n",
       "\n",
       "    .dataframe tbody tr th {\n",
       "        vertical-align: top;\n",
       "    }\n",
       "\n",
       "    .dataframe thead th {\n",
       "        text-align: right;\n",
       "    }\n",
       "</style>\n",
       "<table border=\"1\" class=\"dataframe\">\n",
       "  <thead>\n",
       "    <tr style=\"text-align: right;\">\n",
       "      <th></th>\n",
       "      <th>cid</th>\n",
       "      <th>name</th>\n",
       "      <th>type</th>\n",
       "      <th>notnull</th>\n",
       "      <th>dflt_value</th>\n",
       "      <th>pk</th>\n",
       "    </tr>\n",
       "  </thead>\n",
       "  <tbody>\n",
       "    <tr>\n",
       "      <th>0</th>\n",
       "      <td>0</td>\n",
       "      <td>index</td>\n",
       "      <td>INTEGER</td>\n",
       "      <td>0</td>\n",
       "      <td>None</td>\n",
       "      <td>0</td>\n",
       "    </tr>\n",
       "    <tr>\n",
       "      <th>1</th>\n",
       "      <td>1</td>\n",
       "      <td>MID</td>\n",
       "      <td>TEXT</td>\n",
       "      <td>0</td>\n",
       "      <td>None</td>\n",
       "      <td>0</td>\n",
       "    </tr>\n",
       "    <tr>\n",
       "      <th>2</th>\n",
       "      <td>2</td>\n",
       "      <td>CID</td>\n",
       "      <td>REAL</td>\n",
       "      <td>0</td>\n",
       "      <td>None</td>\n",
       "      <td>0</td>\n",
       "    </tr>\n",
       "    <tr>\n",
       "      <th>3</th>\n",
       "      <td>3</td>\n",
       "      <td>ID</td>\n",
       "      <td>INTEGER</td>\n",
       "      <td>0</td>\n",
       "      <td>None</td>\n",
       "      <td>0</td>\n",
       "    </tr>\n",
       "  </tbody>\n",
       "</table>\n",
       "</div>"
      ],
      "text/plain": [
       "   cid   name     type  notnull dflt_value  pk\n",
       "0    0  index  INTEGER        0       None   0\n",
       "1    1    MID     TEXT        0       None   0\n",
       "2    2    CID     REAL        0       None   0\n",
       "3    3     ID  INTEGER        0       None   0"
      ]
     },
     "metadata": {},
     "output_type": "display_data"
    },
    {
     "name": "stdout",
     "output_type": "stream",
     "text": [
      "----------------------------------------------------------------------------------------------------\n",
      "\n",
      "\n",
      "Schema of M_Language\n"
     ]
    },
    {
     "data": {
      "text/html": [
       "<div>\n",
       "<style scoped>\n",
       "    .dataframe tbody tr th:only-of-type {\n",
       "        vertical-align: middle;\n",
       "    }\n",
       "\n",
       "    .dataframe tbody tr th {\n",
       "        vertical-align: top;\n",
       "    }\n",
       "\n",
       "    .dataframe thead th {\n",
       "        text-align: right;\n",
       "    }\n",
       "</style>\n",
       "<table border=\"1\" class=\"dataframe\">\n",
       "  <thead>\n",
       "    <tr style=\"text-align: right;\">\n",
       "      <th></th>\n",
       "      <th>cid</th>\n",
       "      <th>name</th>\n",
       "      <th>type</th>\n",
       "      <th>notnull</th>\n",
       "      <th>dflt_value</th>\n",
       "      <th>pk</th>\n",
       "    </tr>\n",
       "  </thead>\n",
       "  <tbody>\n",
       "    <tr>\n",
       "      <th>0</th>\n",
       "      <td>0</td>\n",
       "      <td>index</td>\n",
       "      <td>INTEGER</td>\n",
       "      <td>0</td>\n",
       "      <td>None</td>\n",
       "      <td>0</td>\n",
       "    </tr>\n",
       "    <tr>\n",
       "      <th>1</th>\n",
       "      <td>1</td>\n",
       "      <td>MID</td>\n",
       "      <td>TEXT</td>\n",
       "      <td>0</td>\n",
       "      <td>None</td>\n",
       "      <td>0</td>\n",
       "    </tr>\n",
       "    <tr>\n",
       "      <th>2</th>\n",
       "      <td>2</td>\n",
       "      <td>LAID</td>\n",
       "      <td>INTEGER</td>\n",
       "      <td>0</td>\n",
       "      <td>None</td>\n",
       "      <td>0</td>\n",
       "    </tr>\n",
       "    <tr>\n",
       "      <th>3</th>\n",
       "      <td>3</td>\n",
       "      <td>ID</td>\n",
       "      <td>INTEGER</td>\n",
       "      <td>0</td>\n",
       "      <td>None</td>\n",
       "      <td>0</td>\n",
       "    </tr>\n",
       "  </tbody>\n",
       "</table>\n",
       "</div>"
      ],
      "text/plain": [
       "   cid   name     type  notnull dflt_value  pk\n",
       "0    0  index  INTEGER        0       None   0\n",
       "1    1    MID     TEXT        0       None   0\n",
       "2    2   LAID  INTEGER        0       None   0\n",
       "3    3     ID  INTEGER        0       None   0"
      ]
     },
     "metadata": {},
     "output_type": "display_data"
    },
    {
     "name": "stdout",
     "output_type": "stream",
     "text": [
      "----------------------------------------------------------------------------------------------------\n",
      "\n",
      "\n",
      "Schema of M_Genre\n"
     ]
    },
    {
     "data": {
      "text/html": [
       "<div>\n",
       "<style scoped>\n",
       "    .dataframe tbody tr th:only-of-type {\n",
       "        vertical-align: middle;\n",
       "    }\n",
       "\n",
       "    .dataframe tbody tr th {\n",
       "        vertical-align: top;\n",
       "    }\n",
       "\n",
       "    .dataframe thead th {\n",
       "        text-align: right;\n",
       "    }\n",
       "</style>\n",
       "<table border=\"1\" class=\"dataframe\">\n",
       "  <thead>\n",
       "    <tr style=\"text-align: right;\">\n",
       "      <th></th>\n",
       "      <th>cid</th>\n",
       "      <th>name</th>\n",
       "      <th>type</th>\n",
       "      <th>notnull</th>\n",
       "      <th>dflt_value</th>\n",
       "      <th>pk</th>\n",
       "    </tr>\n",
       "  </thead>\n",
       "  <tbody>\n",
       "    <tr>\n",
       "      <th>0</th>\n",
       "      <td>0</td>\n",
       "      <td>index</td>\n",
       "      <td>INTEGER</td>\n",
       "      <td>0</td>\n",
       "      <td>None</td>\n",
       "      <td>0</td>\n",
       "    </tr>\n",
       "    <tr>\n",
       "      <th>1</th>\n",
       "      <td>1</td>\n",
       "      <td>MID</td>\n",
       "      <td>TEXT</td>\n",
       "      <td>0</td>\n",
       "      <td>None</td>\n",
       "      <td>0</td>\n",
       "    </tr>\n",
       "    <tr>\n",
       "      <th>2</th>\n",
       "      <td>2</td>\n",
       "      <td>GID</td>\n",
       "      <td>INTEGER</td>\n",
       "      <td>0</td>\n",
       "      <td>None</td>\n",
       "      <td>0</td>\n",
       "    </tr>\n",
       "    <tr>\n",
       "      <th>3</th>\n",
       "      <td>3</td>\n",
       "      <td>ID</td>\n",
       "      <td>INTEGER</td>\n",
       "      <td>0</td>\n",
       "      <td>None</td>\n",
       "      <td>0</td>\n",
       "    </tr>\n",
       "  </tbody>\n",
       "</table>\n",
       "</div>"
      ],
      "text/plain": [
       "   cid   name     type  notnull dflt_value  pk\n",
       "0    0  index  INTEGER        0       None   0\n",
       "1    1    MID     TEXT        0       None   0\n",
       "2    2    GID  INTEGER        0       None   0\n",
       "3    3     ID  INTEGER        0       None   0"
      ]
     },
     "metadata": {},
     "output_type": "display_data"
    },
    {
     "name": "stdout",
     "output_type": "stream",
     "text": [
      "----------------------------------------------------------------------------------------------------\n",
      "\n",
      "\n",
      "Schema of Person\n"
     ]
    },
    {
     "data": {
      "text/html": [
       "<div>\n",
       "<style scoped>\n",
       "    .dataframe tbody tr th:only-of-type {\n",
       "        vertical-align: middle;\n",
       "    }\n",
       "\n",
       "    .dataframe tbody tr th {\n",
       "        vertical-align: top;\n",
       "    }\n",
       "\n",
       "    .dataframe thead th {\n",
       "        text-align: right;\n",
       "    }\n",
       "</style>\n",
       "<table border=\"1\" class=\"dataframe\">\n",
       "  <thead>\n",
       "    <tr style=\"text-align: right;\">\n",
       "      <th></th>\n",
       "      <th>cid</th>\n",
       "      <th>name</th>\n",
       "      <th>type</th>\n",
       "      <th>notnull</th>\n",
       "      <th>dflt_value</th>\n",
       "      <th>pk</th>\n",
       "    </tr>\n",
       "  </thead>\n",
       "  <tbody>\n",
       "    <tr>\n",
       "      <th>0</th>\n",
       "      <td>0</td>\n",
       "      <td>index</td>\n",
       "      <td>INTEGER</td>\n",
       "      <td>0</td>\n",
       "      <td>None</td>\n",
       "      <td>0</td>\n",
       "    </tr>\n",
       "    <tr>\n",
       "      <th>1</th>\n",
       "      <td>1</td>\n",
       "      <td>PID</td>\n",
       "      <td>TEXT</td>\n",
       "      <td>0</td>\n",
       "      <td>None</td>\n",
       "      <td>0</td>\n",
       "    </tr>\n",
       "    <tr>\n",
       "      <th>2</th>\n",
       "      <td>2</td>\n",
       "      <td>Name</td>\n",
       "      <td>TEXT</td>\n",
       "      <td>0</td>\n",
       "      <td>None</td>\n",
       "      <td>0</td>\n",
       "    </tr>\n",
       "    <tr>\n",
       "      <th>3</th>\n",
       "      <td>3</td>\n",
       "      <td>Gender</td>\n",
       "      <td>TEXT</td>\n",
       "      <td>0</td>\n",
       "      <td>None</td>\n",
       "      <td>0</td>\n",
       "    </tr>\n",
       "  </tbody>\n",
       "</table>\n",
       "</div>"
      ],
      "text/plain": [
       "   cid    name     type  notnull dflt_value  pk\n",
       "0    0   index  INTEGER        0       None   0\n",
       "1    1     PID     TEXT        0       None   0\n",
       "2    2    Name     TEXT        0       None   0\n",
       "3    3  Gender     TEXT        0       None   0"
      ]
     },
     "metadata": {},
     "output_type": "display_data"
    },
    {
     "name": "stdout",
     "output_type": "stream",
     "text": [
      "----------------------------------------------------------------------------------------------------\n",
      "\n",
      "\n",
      "Schema of M_Producer\n"
     ]
    },
    {
     "data": {
      "text/html": [
       "<div>\n",
       "<style scoped>\n",
       "    .dataframe tbody tr th:only-of-type {\n",
       "        vertical-align: middle;\n",
       "    }\n",
       "\n",
       "    .dataframe tbody tr th {\n",
       "        vertical-align: top;\n",
       "    }\n",
       "\n",
       "    .dataframe thead th {\n",
       "        text-align: right;\n",
       "    }\n",
       "</style>\n",
       "<table border=\"1\" class=\"dataframe\">\n",
       "  <thead>\n",
       "    <tr style=\"text-align: right;\">\n",
       "      <th></th>\n",
       "      <th>cid</th>\n",
       "      <th>name</th>\n",
       "      <th>type</th>\n",
       "      <th>notnull</th>\n",
       "      <th>dflt_value</th>\n",
       "      <th>pk</th>\n",
       "    </tr>\n",
       "  </thead>\n",
       "  <tbody>\n",
       "    <tr>\n",
       "      <th>0</th>\n",
       "      <td>0</td>\n",
       "      <td>index</td>\n",
       "      <td>INTEGER</td>\n",
       "      <td>0</td>\n",
       "      <td>None</td>\n",
       "      <td>0</td>\n",
       "    </tr>\n",
       "    <tr>\n",
       "      <th>1</th>\n",
       "      <td>1</td>\n",
       "      <td>MID</td>\n",
       "      <td>TEXT</td>\n",
       "      <td>0</td>\n",
       "      <td>None</td>\n",
       "      <td>0</td>\n",
       "    </tr>\n",
       "    <tr>\n",
       "      <th>2</th>\n",
       "      <td>2</td>\n",
       "      <td>PID</td>\n",
       "      <td>TEXT</td>\n",
       "      <td>0</td>\n",
       "      <td>None</td>\n",
       "      <td>0</td>\n",
       "    </tr>\n",
       "    <tr>\n",
       "      <th>3</th>\n",
       "      <td>3</td>\n",
       "      <td>ID</td>\n",
       "      <td>INTEGER</td>\n",
       "      <td>0</td>\n",
       "      <td>None</td>\n",
       "      <td>0</td>\n",
       "    </tr>\n",
       "  </tbody>\n",
       "</table>\n",
       "</div>"
      ],
      "text/plain": [
       "   cid   name     type  notnull dflt_value  pk\n",
       "0    0  index  INTEGER        0       None   0\n",
       "1    1    MID     TEXT        0       None   0\n",
       "2    2    PID     TEXT        0       None   0\n",
       "3    3     ID  INTEGER        0       None   0"
      ]
     },
     "metadata": {},
     "output_type": "display_data"
    },
    {
     "name": "stdout",
     "output_type": "stream",
     "text": [
      "----------------------------------------------------------------------------------------------------\n",
      "\n",
      "\n",
      "Schema of M_Director\n"
     ]
    },
    {
     "data": {
      "text/html": [
       "<div>\n",
       "<style scoped>\n",
       "    .dataframe tbody tr th:only-of-type {\n",
       "        vertical-align: middle;\n",
       "    }\n",
       "\n",
       "    .dataframe tbody tr th {\n",
       "        vertical-align: top;\n",
       "    }\n",
       "\n",
       "    .dataframe thead th {\n",
       "        text-align: right;\n",
       "    }\n",
       "</style>\n",
       "<table border=\"1\" class=\"dataframe\">\n",
       "  <thead>\n",
       "    <tr style=\"text-align: right;\">\n",
       "      <th></th>\n",
       "      <th>cid</th>\n",
       "      <th>name</th>\n",
       "      <th>type</th>\n",
       "      <th>notnull</th>\n",
       "      <th>dflt_value</th>\n",
       "      <th>pk</th>\n",
       "    </tr>\n",
       "  </thead>\n",
       "  <tbody>\n",
       "    <tr>\n",
       "      <th>0</th>\n",
       "      <td>0</td>\n",
       "      <td>index</td>\n",
       "      <td>INTEGER</td>\n",
       "      <td>0</td>\n",
       "      <td>None</td>\n",
       "      <td>0</td>\n",
       "    </tr>\n",
       "    <tr>\n",
       "      <th>1</th>\n",
       "      <td>1</td>\n",
       "      <td>MID</td>\n",
       "      <td>TEXT</td>\n",
       "      <td>0</td>\n",
       "      <td>None</td>\n",
       "      <td>0</td>\n",
       "    </tr>\n",
       "    <tr>\n",
       "      <th>2</th>\n",
       "      <td>2</td>\n",
       "      <td>PID</td>\n",
       "      <td>TEXT</td>\n",
       "      <td>0</td>\n",
       "      <td>None</td>\n",
       "      <td>0</td>\n",
       "    </tr>\n",
       "    <tr>\n",
       "      <th>3</th>\n",
       "      <td>3</td>\n",
       "      <td>ID</td>\n",
       "      <td>INTEGER</td>\n",
       "      <td>0</td>\n",
       "      <td>None</td>\n",
       "      <td>0</td>\n",
       "    </tr>\n",
       "  </tbody>\n",
       "</table>\n",
       "</div>"
      ],
      "text/plain": [
       "   cid   name     type  notnull dflt_value  pk\n",
       "0    0  index  INTEGER        0       None   0\n",
       "1    1    MID     TEXT        0       None   0\n",
       "2    2    PID     TEXT        0       None   0\n",
       "3    3     ID  INTEGER        0       None   0"
      ]
     },
     "metadata": {},
     "output_type": "display_data"
    },
    {
     "name": "stdout",
     "output_type": "stream",
     "text": [
      "----------------------------------------------------------------------------------------------------\n",
      "\n",
      "\n",
      "Schema of M_Cast\n"
     ]
    },
    {
     "data": {
      "text/html": [
       "<div>\n",
       "<style scoped>\n",
       "    .dataframe tbody tr th:only-of-type {\n",
       "        vertical-align: middle;\n",
       "    }\n",
       "\n",
       "    .dataframe tbody tr th {\n",
       "        vertical-align: top;\n",
       "    }\n",
       "\n",
       "    .dataframe thead th {\n",
       "        text-align: right;\n",
       "    }\n",
       "</style>\n",
       "<table border=\"1\" class=\"dataframe\">\n",
       "  <thead>\n",
       "    <tr style=\"text-align: right;\">\n",
       "      <th></th>\n",
       "      <th>cid</th>\n",
       "      <th>name</th>\n",
       "      <th>type</th>\n",
       "      <th>notnull</th>\n",
       "      <th>dflt_value</th>\n",
       "      <th>pk</th>\n",
       "    </tr>\n",
       "  </thead>\n",
       "  <tbody>\n",
       "    <tr>\n",
       "      <th>0</th>\n",
       "      <td>0</td>\n",
       "      <td>index</td>\n",
       "      <td>INTEGER</td>\n",
       "      <td>0</td>\n",
       "      <td>None</td>\n",
       "      <td>0</td>\n",
       "    </tr>\n",
       "    <tr>\n",
       "      <th>1</th>\n",
       "      <td>1</td>\n",
       "      <td>MID</td>\n",
       "      <td>TEXT</td>\n",
       "      <td>0</td>\n",
       "      <td>None</td>\n",
       "      <td>0</td>\n",
       "    </tr>\n",
       "    <tr>\n",
       "      <th>2</th>\n",
       "      <td>2</td>\n",
       "      <td>PID</td>\n",
       "      <td>TEXT</td>\n",
       "      <td>0</td>\n",
       "      <td>None</td>\n",
       "      <td>0</td>\n",
       "    </tr>\n",
       "    <tr>\n",
       "      <th>3</th>\n",
       "      <td>3</td>\n",
       "      <td>ID</td>\n",
       "      <td>INTEGER</td>\n",
       "      <td>0</td>\n",
       "      <td>None</td>\n",
       "      <td>0</td>\n",
       "    </tr>\n",
       "  </tbody>\n",
       "</table>\n",
       "</div>"
      ],
      "text/plain": [
       "   cid   name     type  notnull dflt_value  pk\n",
       "0    0  index  INTEGER        0       None   0\n",
       "1    1    MID     TEXT        0       None   0\n",
       "2    2    PID     TEXT        0       None   0\n",
       "3    3     ID  INTEGER        0       None   0"
      ]
     },
     "metadata": {},
     "output_type": "display_data"
    },
    {
     "name": "stdout",
     "output_type": "stream",
     "text": [
      "----------------------------------------------------------------------------------------------------\n",
      "\n",
      "\n"
     ]
    }
   ],
   "source": [
    "for table in tables:\n",
    "    query = \"PRAGMA TABLE_INFO({})\".format(table)\n",
    "    schema = pd.read_sql_query(query,conn)\n",
    "    print(\"Schema of\",table)\n",
    "    display(schema)\n",
    "    print(\"-\"*100)\n",
    "    print(\"\\n\")"
   ]
  },
  {
   "cell_type": "markdown",
   "metadata": {
    "id": "O4Cj0Wdz23tA"
   },
   "source": [
    "## Useful tips:\n",
    "\n",
    "1. the year column in 'Movie' table, will have few chracters other than numbers which you need to be preprocessed, you need to get a substring of last 4 characters, its better if you convert it as int type, ex: CAST(SUBSTR(TRIM(m.year),-4) AS INTEGER)\n",
    "\n",
    "2. For almost all the TEXT columns we have show, please try to remove trailing spaces, you need to use TRIM() function\n",
    "\n",
    "3. When you are doing count(coulmn) it won't consider the \"NULL\" values, you might need to explore other alternatives like Count(*)"
   ]
  },
  {
   "cell_type": "markdown",
   "metadata": {
    "id": "jL9AmM3oE_IZ"
   },
   "source": [
    "## Q1 --- List all the directors who directed a 'Comedy' movie in a leap year. (You need to check that the genre is 'Comedy’ and year is a leap year) Your query should return director name, the movie name, and the year."
   ]
  },
  {
   "cell_type": "markdown",
   "metadata": {
    "id": "1jglmxDuE_Ib"
   },
   "source": [
    "<h4>To determine whether a year is a leap year, follow these steps:</h4>\n",
    "\n",
    "<ul>\n",
    "    <li><b>STEP-1:</b> If the year is evenly divisible by 4, go to step 2. Otherwise, go to step 5.</li>\n",
    "    <li><b>STEP-2:</b> If the year is evenly divisible by 100, go to step 3. Otherwise, go to step 4.</li>\n",
    "    <li><b>STEP-3:</b> If the year is evenly divisible by 400, go to step 4. Otherwise, go to step 5.</li>\n",
    "    <li><b>STEP-4:</b> The year is a leap year (it has 366 days).</li>\n",
    "    <li><b>STEP-5:</b> The year is not a leap year (it has 365 days).</li>\n",
    "</ul>\n",
    "\n",
    "Year 1900 is divisible by 4 and 100 but it is not divisible by 400, so it is not a leap year."
   ]
  },
  {
   "cell_type": "code",
   "execution_count": 17,
   "metadata": {
    "colab": {
     "base_uri": "https://localhost:8080/"
    },
    "executionInfo": {
     "elapsed": 620,
     "status": "ok",
     "timestamp": 1632499597807,
     "user": {
      "displayName": "Yash Vyas",
      "photoUrl": "https://lh3.googleusercontent.com/a/default-user=s64",
      "userId": "09364725830129113274"
     },
     "user_tz": -330
    },
    "id": "3g_IWtu0xqxM",
    "outputId": "6fb19291-37b1-4bf0-a6aa-d6c339788097"
   },
   "outputs": [
    {
     "name": "stdout",
     "output_type": "stream",
     "text": [
      "Movie\n",
      "--------------------------------------------------\n",
      "<bound method NDFrame.head of       index        MID          title  year  rating  num_votes\n",
      "0         0  tt2388771         Mowgli  2018     6.6      21967\n",
      "1         1  tt5164214  Ocean's Eight  2018     6.2     110861\n",
      "2         2  tt1365519    Tomb Raider  2018     6.4     142585\n",
      "3         3  tt0848228   The Avengers  2012     8.1    1137529\n",
      "4         4  tt8239946        Tumbbad  2018     8.5       7483\n",
      "...     ...        ...            ...   ...     ...        ...\n",
      "3468   3470  tt0090611    Allah-Rakha  1986     6.2         96\n",
      "3469   3471  tt0106270          Anari  1993     4.7        301\n",
      "3470   3472  tt0852989  Come December  2006     5.7         57\n",
      "3471   3473  tt0375882     Kala Jigar  1939     3.3        174\n",
      "3472   3474  tt0375890         Kanoon  1994     3.2        103\n",
      "\n",
      "[3473 rows x 6 columns]>\n",
      "Genre\n",
      "--------------------------------------------------\n",
      "<bound method NDFrame.head of      index                                       Name  GID\n",
      "0        0      Adventure, Drama, Fantasy                0\n",
      "1        1          Action, Comedy, Crime                1\n",
      "2        2     Action, Adventure, Fantasy                2\n",
      "3        3      Action, Adventure, Sci-Fi                3\n",
      "4        4        Drama, Horror, Thriller                4\n",
      "..     ...                                        ...  ...\n",
      "323    323  Animation, Adventure, Fantasy              323\n",
      "324    324          Biography, Drama, War              324\n",
      "325    325    Animation, Drama, Adventure              325\n",
      "326    326                  Drama, Action              326\n",
      "327    327         Drama, Mystery, Sci-Fi              327\n",
      "\n",
      "[328 rows x 3 columns]>\n",
      "Language\n",
      "--------------------------------------------------\n",
      "<bound method NDFrame.head of     index          Name  LAID\n",
      "0       0       English     0\n",
      "1       1       Marathi     1\n",
      "2       2         Hindi     2\n",
      "3       3     Cantonese     3\n",
      "4       4        Telugu     4\n",
      "5       5      Mandarin     5\n",
      "6       6         Tamil     6\n",
      "7       7       Punjabi     7\n",
      "8       8        Danish     8\n",
      "9       9        Korean     9\n",
      "10     10       Spanish    10\n",
      "11     11        Arabic    11\n",
      "12     12          Urdu    12\n",
      "13     13       Tibetan    13\n",
      "14     14         Dutch    14\n",
      "15     15       Kannada    15\n",
      "16     16      Japanese    16\n",
      "17     17       Bengali    17\n",
      "18     18     Sinhalese    18\n",
      "19     19     Malayalam    19\n",
      "20     20        French    20\n",
      "21     21       Russian    21\n",
      "22     22      Gujarati    22\n",
      "23     23      Sanskrit    23\n",
      "24     24     Himachali    24\n",
      "25     25          Zulu    25\n",
      "26     26        German    26\n",
      "27     27       Persian    27\n",
      "28     28       Italian    28\n",
      "29     29      Bhojpuri    29\n",
      "30     30  Swiss German    30\n",
      "31     31      Georgian    31>\n",
      "Country\n",
      "--------------------------------------------------\n",
      "<bound method NDFrame.head of     index                  Name  CID\n",
      "0       0                    UK    0\n",
      "1       1                   USA    1\n",
      "2       2                 India    2\n",
      "3       3             Australia    3\n",
      "4       4             Hong Kong    4\n",
      "5       5               Germany    5\n",
      "6       6                Canada    6\n",
      "7       7               Denmark    7\n",
      "8       8               Belgium    8\n",
      "9       9           South Korea    9\n",
      "10     10                 China   10\n",
      "11     11             Argentina   11\n",
      "12     12                 Libya   12\n",
      "13     13           Switzerland   13\n",
      "14     14           Netherlands   14\n",
      "15     15                France   15\n",
      "16     16              Pakistan   16\n",
      "17     17                 Japan   17\n",
      "18     18             Sri Lanka   18\n",
      "19     19  United Arab Emirates   19\n",
      "20     20                Bhutan   20\n",
      "21     21          Soviet Union   21\n",
      "22     22               Iceland   22\n",
      "23     23           Afghanistan   23\n",
      "24     24          South Africa   24\n",
      "25     25                 Egypt   25\n",
      "26     26               Hungary   26\n",
      "27     27                  Iran   27\n",
      "28     28              Suriname   28\n",
      "29     29                Sweden   29\n",
      "30     30                 Spain   30\n",
      "31     31                 Italy   31\n",
      "32     32           New Zealand   32\n",
      "33     33               Georgia   33>\n",
      "Location\n",
      "--------------------------------------------------\n",
      "<bound method NDFrame.head of      index                                               Name  LID\n",
      "0        0                               Durban, South Africa    0\n",
      "1        1                       New York City, New York, USA    1\n",
      "2        2  Cape Town Film Studios, Cape Town, Western Cap...    2\n",
      "3        3                      Pittsburgh, Pennsylvania, USA    3\n",
      "4        4                              Atlanta, Georgia, USA    4\n",
      "..     ...                                                ...  ...\n",
      "554    554                         Perumbavoor, Kerala, India  554\n",
      "555    555                       Jersey City, New Jersey, USA  555\n",
      "556    556          Berner Oberland, Kanton Bern, Switzerland  556\n",
      "557    557                        Aeroporti, Tbilisi, Georgia  557\n",
      "558    558                                Aftab Studio, India  558\n",
      "\n",
      "[559 rows x 3 columns]>\n",
      "M_Location\n",
      "--------------------------------------------------\n",
      "<bound method NDFrame.head of       index        MID    LID    ID\n",
      "0         0  tt2388771    0.0     0\n",
      "1         1  tt5164214    1.0     1\n",
      "2         2  tt1365519    2.0     2\n",
      "3         3  tt0848228    3.0     3\n",
      "4         4  tt8239946    NaN     4\n",
      "...     ...        ...    ...   ...\n",
      "3468   3470  tt0090611  219.0  3470\n",
      "3469   3471  tt0106270    NaN  3471\n",
      "3470   3472  tt0852989  164.0  3472\n",
      "3471   3473  tt0375882    NaN  3473\n",
      "3472   3474  tt0375890    7.0  3474\n",
      "\n",
      "[3473 rows x 4 columns]>\n",
      "M_Country\n",
      "--------------------------------------------------\n",
      "<bound method NDFrame.head of       index        MID  CID    ID\n",
      "0         0  tt2388771  0.0     0\n",
      "1         1  tt5164214  1.0     1\n",
      "2         2  tt1365519  0.0     2\n",
      "3         3  tt0848228  1.0     3\n",
      "4         4  tt8239946  2.0     4\n",
      "...     ...        ...  ...   ...\n",
      "3468   3470  tt0090611  2.0  3470\n",
      "3469   3471  tt0106270  2.0  3471\n",
      "3470   3472  tt0852989  2.0  3472\n",
      "3471   3473  tt0375882  2.0  3473\n",
      "3472   3474  tt0375890  2.0  3474\n",
      "\n",
      "[3473 rows x 4 columns]>\n",
      "M_Language\n",
      "--------------------------------------------------\n",
      "<bound method NDFrame.head of       index        MID  LAID    ID\n",
      "0         0  tt2388771     0     0\n",
      "1         1  tt5164214     0     1\n",
      "2         2  tt1365519     0     2\n",
      "3         3  tt0848228     0     3\n",
      "4         4  tt8239946     1     4\n",
      "...     ...        ...   ...   ...\n",
      "3468   3470  tt0090611     2  3470\n",
      "3469   3471  tt0106270     2  3471\n",
      "3470   3472  tt0852989     2  3472\n",
      "3471   3473  tt0375882     2  3473\n",
      "3472   3474  tt0375890     2  3474\n",
      "\n",
      "[3473 rows x 4 columns]>\n",
      "M_Genre\n",
      "--------------------------------------------------\n",
      "<bound method NDFrame.head of       index        MID  GID    ID\n",
      "0         0  tt2388771    0     0\n",
      "1         1  tt5164214    1     1\n",
      "2         2  tt1365519    2     2\n",
      "3         3  tt0848228    3     3\n",
      "4         4  tt8239946    4     4\n",
      "...     ...        ...  ...   ...\n",
      "3468   3470  tt0090611   46  3470\n",
      "3469   3471  tt0106270   20  3471\n",
      "3470   3472  tt0852989   19  3472\n",
      "3471   3473  tt0375882  309  3473\n",
      "3472   3474  tt0375890   46  3474\n",
      "\n",
      "[3473 rows x 4 columns]>\n",
      "Person\n",
      "--------------------------------------------------\n",
      "<bound method NDFrame.head of        index        PID                   Name  Gender\n",
      "0          0  nm0000288         Christian Bale    Male\n",
      "1          1  nm0000949         Cate Blanchett  Female\n",
      "2          2  nm1212722   Benedict Cumberbatch    Male\n",
      "3          3  nm0365140          Naomie Harris  Female\n",
      "4          4  nm0785227            Andy Serkis    Male\n",
      "...      ...        ...                    ...     ...\n",
      "37561  38276  nm2182643           Kamika Verma    None\n",
      "37562  38277  nm1029114     Dhorairaj Bhagavan    None\n",
      "37563  38278  nm3769883           Nasir Shaikh    None\n",
      "37564  38280  nm1470989                 Kannan    None\n",
      "37565  38281  nm0298158           Adrian Fulle    None\n",
      "\n",
      "[37566 rows x 4 columns]>\n",
      "M_Producer\n",
      "--------------------------------------------------\n",
      "<bound method NDFrame.head of        index        MID         PID     ID\n",
      "0          0  tt2388771   nm0057655      0\n",
      "1          1  tt2388771   nm0147080      1\n",
      "2          2  tt2388771   nm0389414      2\n",
      "3          3  tt2388771   nm0460141      3\n",
      "4          4  tt2388771   nm0672248      4\n",
      "...      ...        ...         ...    ...\n",
      "11744  11746  tt0852989   nm2371237  11746\n",
      "11745  11747  tt0852989   nm2371184  11747\n",
      "11746  11748  tt0852989   nm1246080  11748\n",
      "11747  11749  tt0375882        None  11749\n",
      "11748  11750  tt0375890   nm1421793  11750\n",
      "\n",
      "[11749 rows x 4 columns]>\n",
      "M_Director\n",
      "--------------------------------------------------\n",
      "<bound method NDFrame.head of       index        MID        PID    ID\n",
      "0         0  tt2388771  nm0785227     0\n",
      "1         1  tt5164214  nm0002657     1\n",
      "2         2  tt1365519  nm1012385     2\n",
      "3         3  tt0848228  nm0923736     3\n",
      "4         4  tt8239946  nm9751348     4\n",
      "...     ...        ...        ...   ...\n",
      "3468   3470  tt0090611  nm0220823  3470\n",
      "3469   3471  tt0106270  nm0613517  3471\n",
      "3470   3472  tt0852989  nm2312263  3472\n",
      "3471   3473  tt0375882  nm0066829  3473\n",
      "3472   3474  tt0375890  nm1421793  3474\n",
      "\n",
      "[3473 rows x 4 columns]>\n",
      "M_Cast\n",
      "--------------------------------------------------\n",
      "<bound method NDFrame.head of        index        MID         PID     ID\n",
      "0          0  tt2388771   nm0000288      0\n",
      "1          1  tt2388771   nm0000949      1\n",
      "2          2  tt2388771   nm1212722      2\n",
      "3          3  tt2388771   nm0365140      3\n",
      "4          4  tt2388771   nm0785227      4\n",
      "...      ...        ...         ...    ...\n",
      "82830  82832  tt0375890   nm0664109  82832\n",
      "82831  82833  tt0375890   nm0505323  82833\n",
      "82832  82834  tt0375890   nm0019427  82834\n",
      "82833  82835  tt0375890   nm0197582  82835\n",
      "82834  82836  tt0375890   nm0438467  82836\n",
      "\n",
      "[82835 rows x 4 columns]>\n"
     ]
    }
   ],
   "source": [
    "for table in tables:\n",
    "    table_query = pd.read_sql('SELECT * FROM {0}'.format(table), conn)\n",
    "    print(str(table))\n",
    "    print('-'*50)\n",
    "    print(table_query.head)"
   ]
  },
  {
   "cell_type": "code",
   "execution_count": 18,
   "metadata": {
    "colab": {
     "base_uri": "https://localhost:8080/"
    },
    "executionInfo": {
     "elapsed": 9,
     "status": "ok",
     "timestamp": 1632499597808,
     "user": {
      "displayName": "Yash Vyas",
      "photoUrl": "https://lh3.googleusercontent.com/a/default-user=s64",
      "userId": "09364725830129113274"
     },
     "user_tz": -330
    },
    "id": "yBo_pMrH23tD",
    "outputId": "4bb6a775-5fe6-41d3-c357-9dc916966745"
   },
   "outputs": [
    {
     "name": "stdout",
     "output_type": "stream",
     "text": [
      "                               title  ...               Name\n",
      "0                         Mastizaade  ...       Milap Zaveri\n",
      "1  Harold & Kumar Go to White Castle  ...       Danny Leiner\n",
      "2                 Gangs of Wasseypur  ...     Anurag Kashyap\n",
      "3        Around the World in 80 Days  ...       Frank Coraci\n",
      "4             The Accidental Husband  ...      Griffin Dunne\n",
      "5                             Barfi!  ...        Anurag Basu\n",
      "6                  Bride & Prejudice  ...    Gurinder Chadha\n",
      "7    Beavis and Butt-Head Do America  ...         Mike Judge\n",
      "8                            Dostana  ...   Tarun Mansukhani\n",
      "9                      Kapoor & Sons  ...       Shakun Batra\n",
      "\n",
      "[10 rows x 3 columns]\n",
      "CPU times: user 68.8 ms, sys: 0 ns, total: 68.8 ms\n",
      "Wall time: 74.1 ms\n"
     ]
    }
   ],
   "source": [
    "%%time\n",
    "def grader_1(q1):\n",
    "    q1_results  = pd.read_sql_query(q1,conn)\n",
    "    print(q1_results.head(10))\n",
    "    assert (q1_results.shape == (232,3))\n",
    "\n",
    "query1 = \"\"\"SELECT m.title, CAST(SUBSTR(TRIM(m.year),-4) AS INTEGER), p.Name\n",
    "FROM Movie m JOIN\n",
    "M_director d\n",
    "ON m.MID = d.MID JOIN\n",
    "Person p\n",
    "ON p.PID = d.PID JOIN\n",
    "M_Genre mg \n",
    "ON mg.MID = m.MID JOIN\n",
    "Genre g\n",
    "ON g.GID = mg.GID\n",
    "WHERE TRIM(g.Name) LIKE '%Comedy%' AND (CAST(SUBSTR(M.year,-4) AS UNSIGNED) %4 = 0)\"\"\"\n",
    "\n",
    "\n",
    "grader_1(query1)"
   ]
  },
  {
   "cell_type": "markdown",
   "metadata": {
    "id": "LHFSrIJlE_Ih"
   },
   "source": [
    "## Q2 --- List the names of all the actors who played in the movie 'Anand' (1971)"
   ]
  },
  {
   "cell_type": "code",
   "execution_count": 19,
   "metadata": {
    "colab": {
     "base_uri": "https://localhost:8080/"
    },
    "executionInfo": {
     "elapsed": 597,
     "status": "ok",
     "timestamp": 1632499598402,
     "user": {
      "displayName": "Yash Vyas",
      "photoUrl": "https://lh3.googleusercontent.com/a/default-user=s64",
      "userId": "09364725830129113274"
     },
     "user_tz": -330
    },
    "id": "5BSQOVlk23tS",
    "outputId": "1d374681-c493-4c2f-f6c8-e861212116b9"
   },
   "outputs": [
    {
     "name": "stdout",
     "output_type": "stream",
     "text": [
      "                Name\n",
      "0   Amitabh Bachchan\n",
      "1      Rajesh Khanna\n",
      "2      Sumita Sanyal\n",
      "3         Ramesh Deo\n",
      "4          Seema Deo\n",
      "5     Asit Kumar Sen\n",
      "6         Dev Kishan\n",
      "7       Atam Prakash\n",
      "8      Lalita Kumari\n",
      "9             Savita\n",
      "CPU times: user 278 ms, sys: 4.38 ms, total: 283 ms\n",
      "Wall time: 288 ms\n"
     ]
    }
   ],
   "source": [
    "%%time\n",
    "def grader_2(q2):\n",
    "    q2_results  = pd.read_sql_query(q2,conn)\n",
    "    print(q2_results.head(10))\n",
    "    assert (q2_results.shape == (17,1))\n",
    "\n",
    "\n",
    "query2 = \"\"\"SELECT p.Name\n",
    "FROM Movie m JOIN \n",
    "M_Cast mc\n",
    "ON m.MID = mc.MID JOIN\n",
    "Person p\n",
    "ON TRIM(p.PID) = TRIM(mc.PID)\n",
    "WHERE m.title = 'Anand' \"\"\"\n",
    "\n",
    "grader_2(query2)"
   ]
  },
  {
   "cell_type": "markdown",
   "metadata": {
    "id": "bJ-mAUMmE_Il"
   },
   "source": [
    "## Q3 --- List all the actors who acted in a film before 1970 and in a film after 1990. (That is: < 1970 and > 1990.)"
   ]
  },
  {
   "cell_type": "code",
   "execution_count": 20,
   "metadata": {
    "colab": {
     "base_uri": "https://localhost:8080/"
    },
    "executionInfo": {
     "elapsed": 8,
     "status": "ok",
     "timestamp": 1632499598405,
     "user": {
      "displayName": "Yash Vyas",
      "photoUrl": "https://lh3.googleusercontent.com/a/default-user=s64",
      "userId": "09364725830129113274"
     },
     "user_tz": -330
    },
    "id": "HARXLaJ623tY",
    "outputId": "0cc4b122-4162-4774-f212-5d9b3a1cb1fb"
   },
   "outputs": [
    {
     "name": "stdout",
     "output_type": "stream",
     "text": [
      "(4942, 1)\n",
      "(62570, 1)\n",
      "True\n",
      "CPU times: user 256 ms, sys: 0 ns, total: 256 ms\n",
      "Wall time: 258 ms\n"
     ]
    }
   ],
   "source": [
    "%%time\n",
    "\n",
    "def grader_3a(query_less_1970, query_more_1990):\n",
    "    q3_a = pd.read_sql_query(query_less_1970,conn)\n",
    "    print(q3_a.shape)\n",
    "    q3_b = pd.read_sql_query(query_more_1990,conn)\n",
    "    print(q3_b.shape)\n",
    "    return (q3_a.shape == (4942,1)) and (q3_b.shape == (62570,1))\n",
    "\n",
    "query_less_1970 =\"\"\" \n",
    "Select p.PID from Person p \n",
    "inner join \n",
    "(\n",
    "    select trim(mc.PID) PD, mc.MID from M_cast mc \n",
    "where mc.MID \n",
    "in \n",
    "(\n",
    "    select mv.MID from Movie mv where CAST(SUBSTR(mv.year,-4) AS Integer)<1970\n",
    ")\n",
    ") r1 \n",
    "on r1.PD=p.PID \n",
    "\"\"\"\n",
    "query_more_1990 =\"\"\" \n",
    "Select p.PID from Person p \n",
    "inner join \n",
    "(\n",
    "    select trim(mc.PID) PD, mc.MID from M_cast mc \n",
    "where mc.MID \n",
    "in \n",
    "(\n",
    "    select mv.MID from Movie mv where CAST(SUBSTR(mv.year,-4) AS Integer)>1990\n",
    ")\n",
    ") r1 \n",
    "on r1.PD=p.PID \"\"\"\n",
    "print(grader_3a(query_less_1970, query_more_1990))\n",
    "\n",
    "# using the above two queries, you can find the answer to the given question "
   ]
  },
  {
   "cell_type": "code",
   "execution_count": 21,
   "metadata": {
    "colab": {
     "base_uri": "https://localhost:8080/"
    },
    "executionInfo": {
     "elapsed": 592,
     "status": "ok",
     "timestamp": 1632499598992,
     "user": {
      "displayName": "Yash Vyas",
      "photoUrl": "https://lh3.googleusercontent.com/a/default-user=s64",
      "userId": "09364725830129113274"
     },
     "user_tz": -330
    },
    "id": "sbzv0UZZ23td",
    "outputId": "528e0787-9543-4d81-db8d-afd9ca3eb899"
   },
   "outputs": [
    {
     "name": "stdout",
     "output_type": "stream",
     "text": [
      "              Actor\n",
      "0      Rishi Kapoor\n",
      "1  Amitabh Bachchan\n",
      "2            Asrani\n",
      "3      Zohra Sehgal\n",
      "4   Parikshat Sahni\n",
      "5     Rakesh Sharma\n",
      "6       Sanjay Dutt\n",
      "7         Ric Young\n",
      "8             Yusuf\n",
      "9    Suhasini Mulay\n",
      "CPU times: user 242 ms, sys: 2.27 ms, total: 245 ms\n",
      "Wall time: 255 ms\n"
     ]
    }
   ],
   "source": [
    "%%time\n",
    "def grader_3(q3):\n",
    "    q3_results  = pd.read_sql_query(q3,conn)\n",
    "    print(q3_results.head(10))\n",
    "    assert (q3_results.shape == (300,1))\n",
    "\n",
    "query3 = \"\"\"\n",
    "WITH\n",
    "ACTORS_BEFORE_1970 AS\n",
    "(SELECT  DISTINCT PID FROM Person p WHERE p.PID IN\n",
    "(SELECT TRIM(mc.PID) FROM M_Cast mc WHERE mc.MID IN \n",
    "(SELECT m.MID FROM Movie m WHERE CAST(SUBSTR(M.year,-4) AS UNSIGNED) < 1970))),\n",
    "\n",
    "ACTORS_AFTER_1990 AS\n",
    "(SELECT  DISTINCT PID FROM Person p WHERE p.PID IN\n",
    "(SELECT TRIM(mc.PID) FROM M_Cast mc WHERE mc.MID IN \n",
    "(SELECT m.MID FROM Movie m WHERE CAST(SUBSTR(M.year,-4) AS UNSIGNED) > 1990)))\n",
    "\n",
    "SELECT DISTINCT TRIM(P.Name) Actor \n",
    "FROM ACTORS_BEFORE_1970 A1970\n",
    "JOIN ACTORS_AFTER_1990 A1990 ON     \n",
    "A1970.PID = A1990.PID\n",
    "JOIN Person P ON    \n",
    "A1970.PID = TRIM(P.PID)\n",
    "\"\"\"\n",
    "\n",
    "\n",
    "grader_3(query3)"
   ]
  },
  {
   "cell_type": "markdown",
   "metadata": {
    "id": "wd3tqFxaE_Ir"
   },
   "source": [
    "## Q4 --- List all directors who directed 10 movies or more, in descending order of the number of movies they directed. Return the directors' names and the number of movies each of them directed."
   ]
  },
  {
   "cell_type": "code",
   "execution_count": 22,
   "metadata": {
    "colab": {
     "base_uri": "https://localhost:8080/"
    },
    "executionInfo": {
     "elapsed": 5,
     "status": "ok",
     "timestamp": 1632499598993,
     "user": {
      "displayName": "Yash Vyas",
      "photoUrl": "https://lh3.googleusercontent.com/a/default-user=s64",
      "userId": "09364725830129113274"
     },
     "user_tz": -330
    },
    "id": "aGgqAYk723th",
    "outputId": "9e96e91d-bc01-44e1-8146-71385333735f"
   },
   "outputs": [
    {
     "name": "stdout",
     "output_type": "stream",
     "text": [
      "           TRIM(p.Name)  NUMBER_OF_MOVIES\n",
      "0          David Dhawan                39\n",
      "1          Mahesh Bhatt                35\n",
      "2          Priyadarshan                30\n",
      "3       Ram Gopal Varma                30\n",
      "4          Vikram Bhatt                29\n",
      "5  Hrishikesh Mukherjee                27\n",
      "6           Yash Chopra                21\n",
      "7       Basu Chatterjee                19\n",
      "8        Shakti Samanta                19\n",
      "9          Subhash Ghai                18\n",
      "False\n",
      "CPU times: user 402 ms, sys: 2.13 ms, total: 404 ms\n",
      "Wall time: 405 ms\n"
     ]
    }
   ],
   "source": [
    "%%time\n",
    "\n",
    "def grader_4a(query_4a):\n",
    "    query_4a = pd.read_sql_query(query_4a,conn)\n",
    "    print(query_4a.head(10)) \n",
    "    return (query_4a.shape == (1462,2))\n",
    "\n",
    "query_4a = \"\"\"SELECT TRIM(p.Name), NM.NUMBER_OF_MOVIES\n",
    "FROM\n",
    "\n",
    "(SELECT PID, COUNT(MID) NUMBER_OF_MOVIES \n",
    "FROM M_Director  \n",
    "GROUP BY PID\n",
    "HAVING NUMBER_OF_MOVIES >= 10) NM\n",
    "\n",
    "JOIN Person p  \n",
    "ON TRIM(NM.PID) = TRIM(P.PID)\n",
    "ORDER BY NUMBER_OF_MOVIES DESC\"\"\"\n",
    "\n",
    "print(grader_4a(query_4a))\n",
    "\n",
    "# using the above query, you can write the answer to the given question"
   ]
  },
  {
   "cell_type": "code",
   "execution_count": 23,
   "metadata": {
    "colab": {
     "base_uri": "https://localhost:8080/"
    },
    "executionInfo": {
     "elapsed": 415,
     "status": "ok",
     "timestamp": 1632499599405,
     "user": {
      "displayName": "Yash Vyas",
      "photoUrl": "https://lh3.googleusercontent.com/a/default-user=s64",
      "userId": "09364725830129113274"
     },
     "user_tz": -330
    },
    "id": "xROoSzcF23tn",
    "outputId": "06e8a101-48c0-4f96-e084-801d385b67f2"
   },
   "outputs": [
    {
     "name": "stdout",
     "output_type": "stream",
     "text": [
      "           TRIM(p.Name)  NUMBER_OF_MOVIES\n",
      "0          David Dhawan                39\n",
      "1          Mahesh Bhatt                35\n",
      "2          Priyadarshan                30\n",
      "3       Ram Gopal Varma                30\n",
      "4          Vikram Bhatt                29\n",
      "5  Hrishikesh Mukherjee                27\n",
      "6           Yash Chopra                21\n",
      "7       Basu Chatterjee                19\n",
      "8        Shakti Samanta                19\n",
      "9          Subhash Ghai                18\n",
      "CPU times: user 383 ms, sys: 0 ns, total: 383 ms\n",
      "Wall time: 386 ms\n"
     ]
    }
   ],
   "source": [
    "%%time\n",
    "def grader_4(q4):\n",
    "    q4_results  = pd.read_sql_query(q4,conn)\n",
    "    print(q4_results.head(10))\n",
    "    assert (q4_results.shape == (58,2))\n",
    "\n",
    "query4 = \"\"\"SELECT TRIM(p.Name), NM.NUMBER_OF_MOVIES\n",
    "FROM\n",
    "\n",
    "(SELECT PID, COUNT(MID) NUMBER_OF_MOVIES \n",
    "FROM M_Director  \n",
    "GROUP BY PID\n",
    "HAVING NUMBER_OF_MOVIES >= 10) NM\n",
    "\n",
    "JOIN Person p  \n",
    "ON TRIM(NM.PID) = TRIM(P.PID)\n",
    "ORDER BY NUMBER_OF_MOVIES DESC\"\"\"\n",
    "\n",
    "grader_4(query4)"
   ]
  },
  {
   "cell_type": "markdown",
   "metadata": {
    "id": "OnulNpiOE_Iw"
   },
   "source": [
    "## Q5.a --- For each year, count the number of movies in that year that had only female actors."
   ]
  },
  {
   "cell_type": "code",
   "execution_count": 24,
   "metadata": {
    "colab": {
     "base_uri": "https://localhost:8080/"
    },
    "executionInfo": {
     "elapsed": 383,
     "status": "ok",
     "timestamp": 1632499599785,
     "user": {
      "displayName": "Yash Vyas",
      "photoUrl": "https://lh3.googleusercontent.com/a/default-user=s64",
      "userId": "09364725830129113274"
     },
     "user_tz": -330
    },
    "id": "ES-gGiNG23tr",
    "outputId": "3bc01318-0679-4791-d3e5-c14699b8502f"
   },
   "outputs": [
    {
     "name": "stdout",
     "output_type": "stream",
     "text": [
      "    Movie_ID  Gender  Count\n",
      "0  tt0021594    None      1\n",
      "1  tt0021594  Female      3\n",
      "2  tt0021594    Male      5\n",
      "3  tt0026274    None      2\n",
      "4  tt0026274  Female     11\n",
      "5  tt0026274    Male      9\n",
      "6  tt0027256    None      2\n",
      "7  tt0027256  Female      5\n",
      "8  tt0027256    Male      8\n",
      "9  tt0028217  Female      3\n",
      "True\n",
      "    Movie_ID Gender  Count\n",
      "0  tt0021594   Male      5\n",
      "1  tt0026274   Male      9\n",
      "2  tt0027256   Male      8\n",
      "3  tt0028217   Male      7\n",
      "4  tt0031580   Male     27\n",
      "5  tt0033616   Male     46\n",
      "6  tt0036077   Male     11\n",
      "7  tt0038491   Male      7\n",
      "8  tt0039654   Male      6\n",
      "9  tt0040067   Male     10\n",
      "True\n",
      "CPU times: user 322 ms, sys: 7.52 ms, total: 329 ms\n",
      "Wall time: 331 ms\n"
     ]
    }
   ],
   "source": [
    "%%time\n",
    "\n",
    "# note that you don't need TRIM for person table\n",
    "\n",
    "def grader_5aa(query_5aa):\n",
    "    query_5aa = pd.read_sql_query(query_5aa,conn)\n",
    "    print(query_5aa.head(10)) \n",
    "    return (query_5aa.shape == (8846,3))\n",
    "\n",
    "query_5aa = \"\"\"\n",
    "SELECT m.MID as Movie_ID, p.Gender as Gender, COUNT(*) as Count\n",
    "FROM M_Cast m JOIN Person p \n",
    "ON TRIM(m.PID) = (p.PID) \n",
    "GROUP BY Movie_ID, Gender\"\"\"\n",
    "\n",
    "\n",
    "print(grader_5aa(query_5aa))\n",
    "\n",
    "def grader_5ab(query_5ab):\n",
    "    query_5ab = pd.read_sql_query(query_5ab,conn)\n",
    "    print(query_5ab.head(10)) \n",
    "    return (query_5ab.shape == (3469, 3))\n",
    "\n",
    "query_5ab = \"\"\"SELECT m.MID as Movie_ID, p.Gender as Gender, COUNT(*) as Count\n",
    "FROM M_Cast m JOIN Person p \n",
    "ON TRIM(m.PID) = (p.PID) \n",
    "GROUP BY Movie_ID, Gender\n",
    "HAVING p.Gender = 'Male'\n",
    "\"\"\"\n",
    "\n",
    "print(grader_5ab(query_5ab))\n",
    "\n",
    "\n",
    "# using the above queries, you can write the answer to the given question"
   ]
  },
  {
   "cell_type": "code",
   "execution_count": 25,
   "metadata": {
    "colab": {
     "base_uri": "https://localhost:8080/"
    },
    "executionInfo": {
     "elapsed": 609,
     "status": "ok",
     "timestamp": 1632499600392,
     "user": {
      "displayName": "Yash Vyas",
      "photoUrl": "https://lh3.googleusercontent.com/a/default-user=s64",
      "userId": "09364725830129113274"
     },
     "user_tz": -330
    },
    "id": "zQOIawPME_Ix",
    "outputId": "302a3ea9-bf7a-476a-fb4c-45c3587e1823"
   },
   "outputs": [
    {
     "name": "stdout",
     "output_type": "stream",
     "text": [
      "     year  movie_count\n",
      "0    1939            1\n",
      "1    1999            1\n",
      "2    2000            1\n",
      "3  I 2018            1\n",
      "CPU times: user 191 ms, sys: 305 µs, total: 192 ms\n",
      "Wall time: 193 ms\n"
     ]
    }
   ],
   "source": [
    "%%time\n",
    "def grader_5a(q5a):\n",
    "    q5a_results  = pd.read_sql_query(q5a,conn)\n",
    "    print(q5a_results.head(10))\n",
    "    assert (q5a_results.shape == (4,2))\n",
    "\n",
    "query5a = \"\"\" \n",
    "SELECT m.year, COUNT(*) as movie_count \n",
    "FROM Movie m JOIN\n",
    "(\n",
    "SELECT DISTINCT MID from M_Cast  \n",
    "WHERE MID NOT IN \n",
    "(\n",
    "SELECT mc.mid \n",
    "FROM M_Cast mc JOIN\n",
    "Person p on p.pid = TRIM(mc.pid)\n",
    "WHERE p.gender = 'Male'\n",
    ")\n",
    ") females_only_club on females_only_club.mid = m.mid\n",
    "GROUP BY m.year\"\"\"\n",
    "\n",
    "grader_5a(query5a)"
   ]
  },
  {
   "cell_type": "markdown",
   "metadata": {
    "id": "cTiKejUfE_I1"
   },
   "source": [
    "## Q5.b --- Now include a small change: report for each year the percentage of movies in that year with only female actors, and the total number of movies made that year. For example, one answer will be: 1990 31.81 13522 meaning that in 1990 there were 13,522 movies, and 31.81% had only female actors. You do not need to round your answer."
   ]
  },
  {
   "cell_type": "code",
   "execution_count": 26,
   "metadata": {
    "colab": {
     "base_uri": "https://localhost:8080/"
    },
    "executionInfo": {
     "elapsed": 26,
     "status": "ok",
     "timestamp": 1632499600393,
     "user": {
      "displayName": "Yash Vyas",
      "photoUrl": "https://lh3.googleusercontent.com/a/default-user=s64",
      "userId": "09364725830129113274"
     },
     "user_tz": -330
    },
    "id": "Xv6iXvcZE_I2",
    "outputId": "0d8b1d9f-8a1d-4d37-e4db-faaa1d40e073",
    "scrolled": false
   },
   "outputs": [
    {
     "name": "stdout",
     "output_type": "stream",
     "text": [
      "   Year  Percentage  Total_Movies\n",
      "0  1939   50.000000             2\n",
      "1  1999    1.515152            66\n",
      "2  2000    1.562500            64\n",
      "3  2018    0.961538           104\n",
      "CPU times: user 127 ms, sys: 2.74 ms, total: 130 ms\n",
      "Wall time: 130 ms\n"
     ]
    }
   ],
   "source": [
    "%%time\n",
    "def grader_5b(q5b):\n",
    "    q5b_results  = pd.read_sql_query(q5b,conn)\n",
    "    print(q5b_results.head(10))\n",
    "    assert (q5b_results.shape == (4,3))\n",
    "\n",
    "query5b = \"\"\"\n",
    "WITH \n",
    "\n",
    "MALES AS\n",
    "(SELECT mc.MID, COUNT(*), p.Gender FROM M_Cast mc JOIN Person p ON\n",
    "TRIM(mc.PID) = p.PID GROUP BY mc.MId, p.Gender\n",
    "HAVING p.Gender = 'Male'),\n",
    "\n",
    "FEMALES AS\n",
    "(SELECT CAST(SUBSTR(m.Year, -4) AS INTEGER) FEMALE_YEAR, COUNT(TRIM(m.MID)) AS COUNT FROM Movie m\n",
    "WHERE TRIM(m.MID) NOT IN \n",
    "(SELECT MID FROM MALES) GROUP BY FEMALE_YEAR), \n",
    "\n",
    "TOTAL_MOVIES AS\n",
    "(SELECT CAST(SUBSTR(m.Year, -4) AS INTEGER) AS YEAR, COUNT(*) TOTAL FROM Movie m\n",
    "GROUP BY CAST(SUBSTR(m.Year, -4) AS INTEGER))\n",
    "\n",
    "SELECT TOTAL_MOVIES.Year as Year, ((females_per_year.count*100.0) / (TOTAL_MOVIES.TOTAL * 100.0))*100 AS Percentage, TOTAL_MOVIES.TOTAL AS Total_Movies\n",
    "FROM TOTAL_MOVIES TOTAL_MOVIES\n",
    "JOIN FEMALES females_per_year\n",
    "WHERE TOTAL_MOVIES.YEAR = females_per_year.female_year\"\"\"\n",
    " \n",
    "grader_5b(query5b)"
   ]
  },
  {
   "cell_type": "markdown",
   "metadata": {
    "id": "d5mvJcHDE_I6"
   },
   "source": [
    "## Q6 --- Find the film(s) with the largest cast. Return the movie title and the size of the cast. By \"cast size\" we mean the number of distinct actors that played in that movie: if an actor played multiple roles, or if it simply occurs multiple times in casts, we still count her/him only once."
   ]
  },
  {
   "cell_type": "code",
   "execution_count": 27,
   "metadata": {
    "colab": {
     "base_uri": "https://localhost:8080/"
    },
    "executionInfo": {
     "elapsed": 20,
     "status": "ok",
     "timestamp": 1632499600393,
     "user": {
      "displayName": "Yash Vyas",
      "photoUrl": "https://lh3.googleusercontent.com/a/default-user=s64",
      "userId": "09364725830129113274"
     },
     "user_tz": -330
    },
    "id": "vpr9gGg6E_I7",
    "outputId": "a048460b-64af-4b1c-b766-0f41a35e4348",
    "scrolled": false
   },
   "outputs": [
    {
     "name": "stdout",
     "output_type": "stream",
     "text": [
      "                        title  cast_size\n",
      "0               Ocean's Eight        238\n",
      "1                    Apaharan        233\n",
      "2                        Gold        215\n",
      "3             My Name Is Khan        213\n",
      "4  Captain America: Civil War        191\n",
      "5                    Geostorm        170\n",
      "6                     Striker        165\n",
      "7                        2012        154\n",
      "8                      Pixels        144\n",
      "9       Yamla Pagla Deewana 2        140\n",
      "CPU times: user 198 ms, sys: 16.8 ms, total: 215 ms\n",
      "Wall time: 212 ms\n"
     ]
    }
   ],
   "source": [
    "%%time\n",
    "def grader_6(q6):\n",
    "    q6_results  = pd.read_sql_query(q6,conn)\n",
    "    print(q6_results.head(10))\n",
    "    assert (q6_results.shape == (3473, 2))\n",
    "\n",
    "query6 = \"\"\"SELECT m.Title, COUNT(DISTINCT(mc.PID)) AS cast_size\n",
    "FROM Movie m JOIN\n",
    "M_Cast mc\n",
    "ON m.MID = mc.MID\n",
    "GROUP BY m.MID \n",
    "ORDER BY cast_size DESC\"\"\"\n",
    "\n",
    "grader_6(query6)"
   ]
  },
  {
   "cell_type": "markdown",
   "metadata": {
    "id": "E6mOLxNgTby6"
   },
   "source": [
    "### Q7 --- A decade is a sequence of 10 consecutive years. \n",
    "### For example, say in your database you have movie information starting from 1931. \n",
    "### the first decade is 1931, 1932, ..., 1940,\n",
    "### the second decade is 1932, 1933, ..., 1941 and so on. \n",
    "### Find the decade D with the largest number of films and the total number of films in D"
   ]
  },
  {
   "cell_type": "code",
   "execution_count": 28,
   "metadata": {
    "colab": {
     "base_uri": "https://localhost:8080/"
    },
    "executionInfo": {
     "elapsed": 16,
     "status": "ok",
     "timestamp": 1632499600394,
     "user": {
      "displayName": "Yash Vyas",
      "photoUrl": "https://lh3.googleusercontent.com/a/default-user=s64",
      "userId": "09364725830129113274"
     },
     "user_tz": -330
    },
    "id": "ZfOWt8IW23uE",
    "outputId": "0541b919-ab9e-4ede-f2c4-135e1d94f95f"
   },
   "outputs": [
    {
     "name": "stdout",
     "output_type": "stream",
     "text": [
      "    año  COUNT(*)\n",
      "0  1931         1\n",
      "1  1936         3\n",
      "2  1939         2\n",
      "3  1941         1\n",
      "4  1943         1\n",
      "5  1946         2\n",
      "6  1947         2\n",
      "7  1948         3\n",
      "8  1949         3\n",
      "9  1950         2\n",
      "CPU times: user 10.7 ms, sys: 0 ns, total: 10.7 ms\n",
      "Wall time: 11.2 ms\n"
     ]
    }
   ],
   "source": [
    "%%time\n",
    "def grader_7a(q7a):\n",
    "    q7a_results  = pd.read_sql_query(q7a,conn)\n",
    "    print(q7a_results.head(10))\n",
    "    assert (q7a_results.shape == (78, 2))\n",
    "\n",
    "query7a = \"\"\" SELECT  CAST(SUBSTR(m.year,-4) AS UNSIGNED) año, COUNT(*)\n",
    "FROM Movie m\n",
    "GROUP BY año \"\"\"\n",
    "\n",
    "grader_7a(query7a)\n",
    "\n",
    "# using the above query, you can write the answer to the given question"
   ]
  },
  {
   "cell_type": "code",
   "execution_count": 29,
   "metadata": {
    "colab": {
     "base_uri": "https://localhost:8080/"
    },
    "executionInfo": {
     "elapsed": 11,
     "status": "ok",
     "timestamp": 1632499600395,
     "user": {
      "displayName": "Yash Vyas",
      "photoUrl": "https://lh3.googleusercontent.com/a/default-user=s64",
      "userId": "09364725830129113274"
     },
     "user_tz": -330
    },
    "id": "sBMzLrIY23uJ",
    "outputId": "e68ca4d6-6618-4c02-e7ff-d2d809e50380",
    "scrolled": false
   },
   "outputs": [
    {
     "name": "stdout",
     "output_type": "stream",
     "text": [
      "    año  Total   año  Total\n",
      "0  1931      1  1931      1\n",
      "1  1931      1  1936      3\n",
      "2  1931      1  1939      2\n",
      "3  1936      3  1936      3\n",
      "4  1936      3  1939      2\n",
      "5  1936      3  1941      1\n",
      "6  1936      3  1943      1\n",
      "7  1939      2  1939      2\n",
      "8  1939      2  1941      1\n",
      "9  1939      2  1943      1\n",
      "CPU times: user 23.6 ms, sys: 0 ns, total: 23.6 ms\n",
      "Wall time: 27.4 ms\n"
     ]
    }
   ],
   "source": [
    "%%time \n",
    "def grader_7b(q7b):\n",
    "    q7b_results  = pd.read_sql_query(q7b,conn)\n",
    "    print(q7b_results.head(10))\n",
    "    assert (q7b_results.shape == (713, 4))\n",
    "\n",
    "query7b = \"\"\"   \n",
    "WITH \n",
    "\n",
    "TABLE_1 AS\n",
    "(SELECT  m1.Year año, COUNT(*) AS Total\n",
    "FROM Movie m1\n",
    "GROUP BY m1.year),\n",
    "\n",
    "TABLE_2 AS\n",
    "(SELECT  m2.Year año, COUNT(*) AS Total\n",
    "FROM Movie m2\n",
    "GROUP BY m2.year)\n",
    "\n",
    "SELECT* FROM TABLE_1, TABLE_2 \n",
    "WHERE TABLE_1.año <= TABLE_2.año AND TABLE_1.año + 9 >= TABLE_2.año\n",
    "\"\"\"        \n",
    "        \n",
    "grader_7b(query7b)\n",
    "# if you see the below results the first movie year is less than 2nd movie year and \n",
    "# 2nd movie year is less or equal to the first movie year+9\n",
    "\n",
    "# using the above query, you can write the answer to the given question"
   ]
  },
  {
   "cell_type": "code",
   "execution_count": 30,
   "metadata": {
    "colab": {
     "base_uri": "https://localhost:8080/"
    },
    "executionInfo": {
     "elapsed": 564,
     "status": "ok",
     "timestamp": 1632499600952,
     "user": {
      "displayName": "Yash Vyas",
      "photoUrl": "https://lh3.googleusercontent.com/a/default-user=s64",
      "userId": "09364725830129113274"
     },
     "user_tz": -330
    },
    "id": "NKqbguuqE_JA",
    "outputId": "534b3005-536f-4ed6-92a2-025469b97e2e",
    "scrolled": false
   },
   "outputs": [
    {
     "name": "stdout",
     "output_type": "stream",
     "text": [
      "  DECADE_START  TOTAL_MOVIES\n",
      "0         2008          1126\n",
      "CPU times: user 90.1 ms, sys: 0 ns, total: 90.1 ms\n",
      "Wall time: 90.7 ms\n"
     ]
    }
   ],
   "source": [
    "%%time\n",
    "def grader_7(q7):\n",
    "    q7_results  = pd.read_sql_query(q7,conn)\n",
    "    print(q7_results.head(10))\n",
    "    assert (q7_results.shape == (1, 2))\n",
    "\n",
    "query7 = \"\"\"\n",
    "SELECT y.Year as DECADE_START, COUNT(*) as TOTAL_MOVIES\n",
    "FROM (SELECT DISTINCT Year FROM MOVIE) y JOIN\n",
    "Movie m\n",
    "ON m.year>= DECADE_START and m.year < DECADE_START+10\n",
    "GROUP BY y.Year\n",
    "ORDER BY TOTAL_MOVIES DESC\n",
    "LIMIT 1 \"\"\"\n",
    "grader_7(query7)\n",
    "# if you check the output we are printinng all the year in that decade, its fine you can print 2008 or 2008-2017"
   ]
  },
  {
   "cell_type": "markdown",
   "metadata": {
    "id": "Jbm3Oy3hT8d9"
   },
   "source": [
    "## Q8 --- Find all the actors that made more movies with Yash Chopra than any other director."
   ]
  },
  {
   "cell_type": "code",
   "execution_count": 31,
   "metadata": {
    "colab": {
     "base_uri": "https://localhost:8080/"
    },
    "executionInfo": {
     "elapsed": 17,
     "status": "ok",
     "timestamp": 1632499600953,
     "user": {
      "displayName": "Yash Vyas",
      "photoUrl": "https://lh3.googleusercontent.com/a/default-user=s64",
      "userId": "09364725830129113274"
     },
     "user_tz": -330
    },
    "id": "DZJ7WMrk23uR",
    "outputId": "1dcf592a-cd2e-436c-a0f0-420c94c8993d",
    "scrolled": false
   },
   "outputs": [
    {
     "name": "stdout",
     "output_type": "stream",
     "text": [
      "          PID        MID  COUNT(*)\n",
      "0   nm0000002  tt0053126         1\n",
      "1   nm0000027  tt0087892         1\n",
      "2   nm0000039  tt0046427         1\n",
      "3   nm0000042  tt0046427         1\n",
      "4   nm0000047  tt0066070         1\n",
      "5   nm0000073  tt0031580         1\n",
      "6   nm0000076  tt0075860         1\n",
      "7   nm0000092  tt0327437         1\n",
      "8   nm0000093  tt0120102         1\n",
      "9   nm0000096  tt1411956         1\n",
      "CPU times: user 311 ms, sys: 8.24 ms, total: 319 ms\n",
      "Wall time: 325 ms\n"
     ]
    }
   ],
   "source": [
    "%%time\n",
    "def grader_8a(q8a):\n",
    "    q8a_results  = pd.read_sql_query(q8a,conn)\n",
    "    print(q8a_results.head(10))\n",
    "    assert (q8a_results.shape == (73408, 3))\n",
    "\n",
    "query8a = \"\"\" SELECT mc.PID, d.MID, COUNT(*)\n",
    "FROM M_director d JOIN\n",
    "M_Cast mc ON\n",
    "mc.MID = d.MID\n",
    "GROUP BY mc.PID, d.PID \"\"\"\n",
    "grader_8a(query8a)\n",
    "\n",
    "# using the above query, you can write the answer to the given question"
   ]
  },
  {
   "cell_type": "code",
   "execution_count": 32,
   "metadata": {
    "colab": {
     "base_uri": "https://localhost:8080/"
    },
    "executionInfo": {
     "elapsed": 1260,
     "status": "ok",
     "timestamp": 1632499602204,
     "user": {
      "displayName": "Yash Vyas",
      "photoUrl": "https://lh3.googleusercontent.com/a/default-user=s64",
      "userId": "09364725830129113274"
     },
     "user_tz": -330
    },
    "id": "SYMTcHixE_JH",
    "outputId": "598e9c71-a095-4cfc-fe57-5fbc32c34f00"
   },
   "outputs": [
    {
     "name": "stdout",
     "output_type": "stream",
     "text": [
      "                Name  count\n",
      "0        Jagdish Raj     11\n",
      "1   Manmohan Krishna     10\n",
      "2           Iftekhar      9\n",
      "3      Shashi Kapoor      7\n",
      "4      Rakhee Gulzar      5\n",
      "5     Waheeda Rehman      5\n",
      "6           Ravikant      4\n",
      "7     Achala Sachdev      4\n",
      "8        Neetu Singh      4\n",
      "9      Leela Chitnis      3\n",
      "(245, 2)\n",
      "CPU times: user 883 ms, sys: 16.6 ms, total: 900 ms\n",
      "Wall time: 900 ms\n"
     ]
    }
   ],
   "source": [
    "%%time\n",
    "\n",
    "def grader_8(q8):\n",
    "    q8_results  = pd.read_sql_query(q8,conn)\n",
    "    print(q8_results.head(10))\n",
    "    print(q8_results.shape)\n",
    "    assert (q8_results.shape == (245, 2))\n",
    "\n",
    "query8 = \"\"\"SELECT     p.name,\n",
    "           p1.count\n",
    "FROM       (\n",
    "                     SELECT    first.actor,\n",
    "                               first.count\n",
    "                     FROM      (\n",
    "                                          SELECT     pactor.pid AS actor,\n",
    "                                                     Count(*)   AS count\n",
    "                                          FROM       m_cast mc\n",
    "                                          INNER JOIN\n",
    "                                                     (\n",
    "                                                            SELECT m.mid\n",
    "                                                            FROM   movie m) AS m\n",
    "                                          ON         m.mid = Trim(mc.mid)\n",
    "                                          INNER JOIN\n",
    "                                                     (\n",
    "                                                            SELECT md.pid,\n",
    "                                                                   md.mid\n",
    "                                                            FROM   m_director md) AS md\n",
    "                                          ON         md.mid = Trim(mc.mid)\n",
    "                                          INNER JOIN\n",
    "                                                     (\n",
    "                                                            SELECT p.pid,\n",
    "                                                                   p.name AS actor\n",
    "                                                            FROM   person p) AS pactor\n",
    "                                          ON         pactor.pid = Trim(mc.pid)\n",
    "                                          INNER JOIN\n",
    "                                                     (\n",
    "                                                            SELECT p.pid,\n",
    "                                                                   p.name AS director\n",
    "                                                            FROM   person p) AS pdirector\n",
    "                                          ON         pdirector.pid = Trim(md.pid)\n",
    "                                          WHERE      director LIKE '%Yash Chopra%'\n",
    "                                          GROUP BY   pactor.pid) first\n",
    "                     LEFT JOIN\n",
    "                               (\n",
    "                                        SELECT   actor,\n",
    "                                                 Max(count) AS count\n",
    "                                        FROM     (\n",
    "                                                            SELECT     pactor.pid AS actor,\n",
    "                                                                       Count(*)   AS count\n",
    "                                                            FROM       m_cast mc\n",
    "                                                            INNER JOIN\n",
    "                                                                       (\n",
    "                                                                              SELECT m.mid\n",
    "                                                                              FROM   movie m) AS m\n",
    "                                                            ON         m.mid = Trim(mc.mid)\n",
    "                                                            INNER JOIN\n",
    "                                                                       (\n",
    "                                                                              SELECT md.pid,\n",
    "                                                                                     md.mid\n",
    "                                                                              FROM   m_director md) AS md\n",
    "                                                            ON         md.mid = Trim(mc.mid)\n",
    "                                                            INNER JOIN\n",
    "                                                                       (\n",
    "                                                                              SELECT p.pid,\n",
    "                                                                                     p.name AS actor\n",
    "                                                                              FROM   person p) AS pactor\n",
    "                                                            ON         pactor.pid = Trim(mc.pid)\n",
    "                                                            INNER JOIN\n",
    "                                                                       (\n",
    "                                                                              SELECT p.pid,\n",
    "                                                                                     p.name AS director\n",
    "                                                                              FROM   person p) AS pdirector\n",
    "                                                            ON         pdirector.pid = Trim(md.pid)\n",
    "                                                            WHERE      director NOT LIKE '%Yash Chopra%'\n",
    "                                                            GROUP BY   pactor.pid,\n",
    "                                                                       director)\n",
    "                                        GROUP BY actor) second\n",
    "                     ON        first.actor = second.actor\n",
    "                     WHERE     first.count >= second.count\n",
    "                     OR        second.actor IS NULL\n",
    "                     ORDER BY  first.count DESC) p1\n",
    "INNER JOIN person p\n",
    "where      p.pid = p1.actor \"\"\"\n",
    "grader_8(query8)\n",
    "#source : https://stackoverflow.com/a/65603069/14315215"
   ]
  },
  {
   "cell_type": "markdown",
   "metadata": {
    "id": "2j8Fc9jUUJ9C"
   },
   "source": [
    "## Q9 --- The Shahrukh number of an actor is the length of the shortest path between the actor and Shahrukh Khan in the \"co-acting\" graph. That is, Shahrukh Khan has Shahrukh number 0; all actors who acted in the same film as Shahrukh have Shahrukh number 1; all actors who acted in the same film as some actor with Shahrukh number 1 have Shahrukh number 2, etc. Return all actors whose Shahrukh number is 2."
   ]
  },
  {
   "cell_type": "code",
   "execution_count": 33,
   "metadata": {
    "colab": {
     "base_uri": "https://localhost:8080/"
    },
    "executionInfo": {
     "elapsed": 25,
     "status": "ok",
     "timestamp": 1632499602208,
     "user": {
      "displayName": "Yash Vyas",
      "photoUrl": "https://lh3.googleusercontent.com/a/default-user=s64",
      "userId": "09364725830129113274"
     },
     "user_tz": -330
    },
    "id": "3FnJ_19z23ub",
    "outputId": "7eae3403-e9d8-4f09-bde3-5d431f4f7740",
    "scrolled": false
   },
   "outputs": [
    {
     "name": "stdout",
     "output_type": "stream",
     "text": [
      "     SRK_PID\n",
      "0  nm0004418\n",
      "1  nm1995953\n",
      "2  nm2778261\n",
      "3  nm0631373\n",
      "4  nm0241935\n",
      "5  nm0792116\n",
      "6  nm1300111\n",
      "7  nm0196375\n",
      "8  nm1464837\n",
      "9  nm2868019\n",
      "(2382, 1)\n",
      "CPU times: user 66 ms, sys: 4.96 ms, total: 71 ms\n",
      "Wall time: 71.6 ms\n"
     ]
    }
   ],
   "source": [
    "%%time\n",
    "def grader_9a(q9a):\n",
    "    q9a_results  = pd.read_sql_query(q9a,conn)\n",
    "    print(q9a_results.head(10))\n",
    "    print(q9a_results.shape)\n",
    "    assert (q9a_results.shape == (2382, 1))\n",
    "\n",
    "query9a = \"\"\"WITH \n",
    "\n",
    "T1 AS\n",
    "(SELECT DISTINCT p.PID FROM Person p\n",
    "WHERE p.Name LIKE '%Shah Rukh Khan%'),\n",
    "\n",
    "T2 AS\n",
    "(SELECT DISTINCT mc.MID, T1.PID FROM M_Cast mc, T1\n",
    "WHERE TRIM(mc.PID) = T1.PID)\n",
    "\n",
    "SELECT DISTINCT(TRIM(MC.PID)) AS SRK_PID\n",
    "FROM M_Cast mc, T2\n",
    "WHERE TRIM(mc.MID) = T2.MID AND TRIM(mc.PID) <> T2.PID \n",
    "\"\"\"\n",
    "grader_9a(query9a)\n",
    "# using the above query, you can write the answer to the given question\n",
    "\n",
    "# selecting actors who acted with srk (S1)\n",
    "# selecting all movies where S1 actors acted, this forms S2 movies list\n",
    "# selecting all actors who acted in S2 movies, this gives us S2 actors along with S1 actors\n",
    "# removing S1 actors from the combined list of S1 & S2 actors, so that we get only S2 actors"
   ]
  },
  {
   "cell_type": "code",
   "execution_count": 34,
   "metadata": {
    "colab": {
     "base_uri": "https://localhost:8080/",
     "height": 422
    },
    "executionInfo": {
     "elapsed": 30,
     "status": "ok",
     "timestamp": 1632499602220,
     "user": {
      "displayName": "Yash Vyas",
      "photoUrl": "https://lh3.googleusercontent.com/a/default-user=s64",
      "userId": "09364725830129113274"
     },
     "user_tz": -330
    },
    "id": "EMWF68N9eZso",
    "outputId": "c3183859-7872-40e3-f37d-574653b9425f"
   },
   "outputs": [
    {
     "data": {
      "text/html": [
       "<div>\n",
       "<style scoped>\n",
       "    .dataframe tbody tr th:only-of-type {\n",
       "        vertical-align: middle;\n",
       "    }\n",
       "\n",
       "    .dataframe tbody tr th {\n",
       "        vertical-align: top;\n",
       "    }\n",
       "\n",
       "    .dataframe thead th {\n",
       "        text-align: right;\n",
       "    }\n",
       "</style>\n",
       "<table border=\"1\" class=\"dataframe\">\n",
       "  <thead>\n",
       "    <tr style=\"text-align: right;\">\n",
       "      <th></th>\n",
       "      <th>SRK_PID</th>\n",
       "    </tr>\n",
       "  </thead>\n",
       "  <tbody>\n",
       "    <tr>\n",
       "      <th>0</th>\n",
       "      <td>nm0004418</td>\n",
       "    </tr>\n",
       "    <tr>\n",
       "      <th>1</th>\n",
       "      <td>nm1995953</td>\n",
       "    </tr>\n",
       "    <tr>\n",
       "      <th>2</th>\n",
       "      <td>nm2778261</td>\n",
       "    </tr>\n",
       "    <tr>\n",
       "      <th>3</th>\n",
       "      <td>nm0631373</td>\n",
       "    </tr>\n",
       "    <tr>\n",
       "      <th>4</th>\n",
       "      <td>nm0241935</td>\n",
       "    </tr>\n",
       "    <tr>\n",
       "      <th>...</th>\n",
       "      <td>...</td>\n",
       "    </tr>\n",
       "    <tr>\n",
       "      <th>2377</th>\n",
       "      <td>nm4173451</td>\n",
       "    </tr>\n",
       "    <tr>\n",
       "      <th>2378</th>\n",
       "      <td>nm7620177</td>\n",
       "    </tr>\n",
       "    <tr>\n",
       "      <th>2379</th>\n",
       "      <td>nm3093045</td>\n",
       "    </tr>\n",
       "    <tr>\n",
       "      <th>2380</th>\n",
       "      <td>nm0451154</td>\n",
       "    </tr>\n",
       "    <tr>\n",
       "      <th>2381</th>\n",
       "      <td>nm3385526</td>\n",
       "    </tr>\n",
       "  </tbody>\n",
       "</table>\n",
       "<p>2382 rows × 1 columns</p>\n",
       "</div>"
      ],
      "text/plain": [
       "        SRK_PID\n",
       "0     nm0004418\n",
       "1     nm1995953\n",
       "2     nm2778261\n",
       "3     nm0631373\n",
       "4     nm0241935\n",
       "...         ...\n",
       "2377  nm4173451\n",
       "2378  nm7620177\n",
       "2379  nm3093045\n",
       "2380  nm0451154\n",
       "2381  nm3385526\n",
       "\n",
       "[2382 rows x 1 columns]"
      ]
     },
     "execution_count": 34,
     "metadata": {},
     "output_type": "execute_result"
    }
   ],
   "source": [
    "free_squat = \"\"\"WITH \n",
    "\n",
    "T1 AS\n",
    "(SELECT DISTINCT p.PID FROM Person p\n",
    "WHERE p.Name LIKE '%Shah Rukh Khan%'),\n",
    "\n",
    "T2 AS\n",
    "(SELECT DISTINCT mc.MID, T1.PID FROM M_Cast mc, T1\n",
    "WHERE TRIM(mc.PID) = T1.PID)\n",
    "\n",
    "SELECT DISTINCT(TRIM(MC.PID)) AS SRK_PID\n",
    "FROM M_Cast mc, T2\n",
    "WHERE TRIM(mc.MID) = T2.MID AND TRIM(mc.PID) <> T2.PID\"\"\"\n",
    "\n",
    "pd.read_sql_query(free_squat, conn)"
   ]
  },
  {
   "cell_type": "code",
   "execution_count": 35,
   "metadata": {
    "colab": {
     "base_uri": "https://localhost:8080/"
    },
    "executionInfo": {
     "elapsed": 667,
     "status": "ok",
     "timestamp": 1632499602860,
     "user": {
      "displayName": "Yash Vyas",
      "photoUrl": "https://lh3.googleusercontent.com/a/default-user=s64",
      "userId": "09364725830129113274"
     },
     "user_tz": -330
    },
    "id": "5o6imc82E_JS",
    "outputId": "178030b6-55a8-4267-cd54-e07202a9b377",
    "scrolled": false
   },
   "outputs": [
    {
     "name": "stdout",
     "output_type": "stream",
     "text": [
      "                   Actor\n",
      "0           Freida Pinto\n",
      "1            Rohan Chand\n",
      "2           Damian Young\n",
      "3        Waris Ahluwalia\n",
      "4  Caroline Christl Long\n",
      "5          Rajeev Pahuja\n",
      "6      Michelle Santiago\n",
      "7        Alicia Vikander\n",
      "8           Dominic West\n",
      "9         Walton Goggins\n",
      "(25698, 1)\n",
      "CPU times: user 414 ms, sys: 7.18 ms, total: 421 ms\n",
      "Wall time: 425 ms\n"
     ]
    }
   ],
   "source": [
    "%%time\n",
    "def grader_9(q9):\n",
    "    q9_results  = pd.read_sql_query(q9,conn)\n",
    "    print(q9_results.head(10))\n",
    "    print(q9_results.shape)\n",
    "    assert (q9_results.shape == (25698, 1))\n",
    "\n",
    "query9 = \"\"\"WITH\n",
    "\n",
    "T1 AS\n",
    "(SELECT DISTINCT p.PID FROM Person p\n",
    "WHERE p.Name LIKE '%Shah Rukh Khan%'),\n",
    "\n",
    "T2 AS\n",
    "(SELECT DISTINCT mc.MID, mc.PID FROM M_Cast mc\n",
    "WHERE TRIM(mc.PID) = (SELECT PID FROM T1)),\n",
    "\n",
    "T3 AS\n",
    "(SELECT DISTINCT mc.PID, mc.MID FROM M_Cast mc\n",
    "JOIN T2 srk_movies ON mc.MID  = srk_movies.MID\n",
    "WHERE TRIM(mc.PID) != TRIM(srk_movies.PID)),\n",
    "\n",
    "T4 AS\n",
    "(SELECT DISTINCT mc.MID FROM M_Cast mc\n",
    "JOIN T3 ON mc.PID = T3.PID\n",
    "WHERE TRIM(mc.PID) = TRIM(T3.PID)),\n",
    "\n",
    "T5 AS\n",
    "(SELECT DISTINCT mc.PID FROM M_Cast mc \n",
    "JOIN T4 ON mc.MID = T4.MID\n",
    "WHERE TRIM(mc.MID) = TRIM(T4.MID)),\n",
    "\n",
    "T6 AS\n",
    "(SELECT DISTINCT PID FROM T5\n",
    "WHERE TRIM(T5.PID) NOT IN (SELECT TRIM(PID) FROM T3)),\n",
    "\n",
    "T7 AS\n",
    "(SELECT p.Name, p.PID FROM Person p\n",
    "WHERE TRIM(p.PID) IN (SELECT TRIM(PID) FROM T6))\n",
    "\n",
    "SELECT TRIM(name.Name) AS Actor FROM T7 name\n",
    "WHERE name.PID NOT IN (SELECT T1.PID FROM T1)\"\"\"\n",
    "\n",
    "grader_9(query9)"
   ]
  }
 ],
 "metadata": {
  "colab": {
   "collapsed_sections": [],
   "name": "Copy of SQL sample queries ashu.ipynb",
   "provenance": [
    {
     "file_id": "1xc7vuVzw4ftNarCCd9VXDlXciBwwoIwY",
     "timestamp": 1632040925574
    }
   ]
  },
  "kernelspec": {
   "display_name": "Python 3",
   "language": "python",
   "name": "python3"
  },
  "language_info": {
   "codemirror_mode": {
    "name": "ipython",
    "version": 3
   },
   "file_extension": ".py",
   "mimetype": "text/x-python",
   "name": "python",
   "nbconvert_exporter": "python",
   "pygments_lexer": "ipython3",
   "version": "3.8.8"
  }
 },
 "nbformat": 4,
 "nbformat_minor": 1
}
